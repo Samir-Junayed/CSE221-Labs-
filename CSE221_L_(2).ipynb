{
  "nbformat": 4,
  "nbformat_minor": 0,
  "metadata": {
    "colab": {
      "provenance": []
    },
    "kernelspec": {
      "name": "python3",
      "display_name": "Python 3"
    },
    "language_info": {
      "name": "python"
    }
  },
  "cells": [
    {
      "cell_type": "code",
      "execution_count": null,
      "metadata": {
        "colab": {
          "base_uri": "https://localhost:8080/"
        },
        "id": "KOypL-MKfmzt",
        "outputId": "0c28e7fa-1859-4fb2-fbc2-592cbacf574e"
      },
      "outputs": [
        {
          "output_type": "stream",
          "name": "stdout",
          "text": [
            "4 10\n",
            "1 5 6 8\n",
            "-1\n"
          ]
        }
      ],
      "source": [
        "a = input().split()\n",
        "b = int(a[0])\n",
        "s = int(a[1])\n",
        "li = list(map(int,input().split()))\n",
        "i = 0\n",
        "j = len(li) - 1\n",
        "flag = 0\n",
        "while i < j:\n",
        "  current = li[i] + li[j]\n",
        "  if current == s:\n",
        "    print(i+1,j+1)\n",
        "    flag = 1\n",
        "    break\n",
        "  elif current < s:\n",
        "    i+=1\n",
        "    current = 0\n",
        "  elif li[i] + li [j] > s:\n",
        "    j-=1\n",
        "if flag == 0:\n",
        "  print(-1)"
      ]
    },
    {
      "cell_type": "code",
      "source": [
        "li = [3,5,2,1,4,7]\n",
        "i = 0\n",
        "j = len(li) - 1\n",
        "while i < j:\n",
        "  print(li[i],li[j])\n",
        "  i+=1\n",
        "  j-=1"
      ],
      "metadata": {
        "colab": {
          "base_uri": "https://localhost:8080/"
        },
        "id": "yBdJym6sjOrb",
        "outputId": "9d0a56b5-cd92-4f68-e283-19ca83832871"
      },
      "execution_count": null,
      "outputs": [
        {
          "output_type": "stream",
          "name": "stdout",
          "text": [
            "3 7\n",
            "5 4\n",
            "2 1\n"
          ]
        }
      ]
    },
    {
      "cell_type": "code",
      "source": [
        "# Task - B\n",
        "a = int(input())\n",
        "li1 = list(map(int,input().split()))\n",
        "b = int(input())\n",
        "li2 = list(map(int,input().split()))\n",
        "i = 0\n",
        "j = 0\n",
        "new = []\n",
        "while i < a and j < b:\n",
        "  if li1[i] < li2[j]:\n",
        "    new.append(li1[i])\n",
        "    i+=1\n",
        "  elif li1[i] > li2[j]:\n",
        "    new.append(li2[j])\n",
        "    j+=1\n",
        "while j < b:\n",
        "  new.append(li2[j])\n",
        "  j+=1\n",
        "while i < a:\n",
        "  new.append(li1[i])\n",
        "  i+=1\n",
        "print(*new)"
      ],
      "metadata": {
        "colab": {
          "base_uri": "https://localhost:8080/"
        },
        "id": "CY1wu8rHKHhn",
        "outputId": "604dec4e-9d9c-44e4-fa61-57e4817474a6"
      },
      "execution_count": null,
      "outputs": [
        {
          "output_type": "stream",
          "name": "stdout",
          "text": [
            "3\n",
            "2 10 12\n",
            "6\n",
            "3 4 6 7 8 9\n",
            "2 3 4 6 7 8 9 10 12\n"
          ]
        }
      ]
    },
    {
      "cell_type": "code",
      "source": [
        "# Task - B\n",
        "a = int(input())\n",
        "li1 = list(map(int,input().split()))\n",
        "b = int(input())\n",
        "li2 = list(map(int,input().split()))\n",
        "i = 0\n",
        "j = 0\n",
        "new = []\n",
        "while i < len(li1) and j < len(li2):\n",
        "  if li1[i] < li2[j]:\n",
        "    new.append(li1[i])\n",
        "    i+=1\n",
        "  elif li1[i] > li2[j]:\n",
        "    new.append(li2[j])\n",
        "    j+=1\n",
        "new.extend(li1[i:])\n",
        "new.extend(li2[j:])\n",
        "print(*new)"
      ],
      "metadata": {
        "colab": {
          "base_uri": "https://localhost:8080/"
        },
        "id": "LJFDzptdJ3fy",
        "outputId": "6246c751-7590-4960-bca8-08f323a8117d"
      },
      "execution_count": null,
      "outputs": [
        {
          "output_type": "stream",
          "name": "stdout",
          "text": [
            "4\n",
            "1 3 5 7\n",
            "4\n",
            "2 2 4 8\n",
            "1 2 2 3 4 5 7 8\n"
          ]
        }
      ]
    },
    {
      "cell_type": "code",
      "source": [
        "# Task - B\n",
        "li1 = [2,10,12]\n",
        "li2 = [3,4,6,7,8,9]\n",
        "i = 0\n",
        "j = 0\n",
        "new = []\n",
        "while i < len(li1) or j < len(li2):\n",
        "  if i == len(li1)-1:\n",
        "    new.append(li2[j])\n",
        "    j+=1\n",
        "  elif j == len(li2) - 1:\n",
        "    new.append(li1[i])\n",
        "    i+=1\n",
        "  elif li1[i] < li2[j]:\n",
        "    new.append(li1[i])\n",
        "    i+=1\n",
        "  elif li1[i] > li2[j]:\n",
        "    new.append(li2[j])\n",
        "    j+=1\n",
        "# new.extend(li1[i:])\n",
        "# new.extend(li2[j:])\n",
        "print(new)"
      ],
      "metadata": {
        "colab": {
          "base_uri": "https://localhost:8080/",
          "height": 211
        },
        "id": "heQS39GngFrD",
        "outputId": "c7de8c93-f7eb-4250-b0ec-6e73b35cca54"
      },
      "execution_count": null,
      "outputs": [
        {
          "output_type": "error",
          "ename": "IndexError",
          "evalue": "list index out of range",
          "traceback": [
            "\u001b[0;31m---------------------------------------------------------------------------\u001b[0m",
            "\u001b[0;31mIndexError\u001b[0m                                Traceback (most recent call last)",
            "\u001b[0;32m<ipython-input-42-a072817141f4>\u001b[0m in \u001b[0;36m<cell line: 0>\u001b[0;34m()\u001b[0m\n\u001b[1;32m      7\u001b[0m \u001b[0;32mwhile\u001b[0m \u001b[0mi\u001b[0m \u001b[0;34m<\u001b[0m \u001b[0mlen\u001b[0m\u001b[0;34m(\u001b[0m\u001b[0mli1\u001b[0m\u001b[0;34m)\u001b[0m \u001b[0;32mor\u001b[0m \u001b[0mj\u001b[0m \u001b[0;34m<\u001b[0m \u001b[0mlen\u001b[0m\u001b[0;34m(\u001b[0m\u001b[0mli2\u001b[0m\u001b[0;34m)\u001b[0m\u001b[0;34m:\u001b[0m\u001b[0;34m\u001b[0m\u001b[0;34m\u001b[0m\u001b[0m\n\u001b[1;32m      8\u001b[0m   \u001b[0;32mif\u001b[0m \u001b[0mi\u001b[0m \u001b[0;34m==\u001b[0m \u001b[0mlen\u001b[0m\u001b[0;34m(\u001b[0m\u001b[0mli1\u001b[0m\u001b[0;34m)\u001b[0m\u001b[0;34m-\u001b[0m\u001b[0;36m1\u001b[0m\u001b[0;34m:\u001b[0m\u001b[0;34m\u001b[0m\u001b[0;34m\u001b[0m\u001b[0m\n\u001b[0;32m----> 9\u001b[0;31m     \u001b[0mnew\u001b[0m\u001b[0;34m.\u001b[0m\u001b[0mappend\u001b[0m\u001b[0;34m(\u001b[0m\u001b[0mli2\u001b[0m\u001b[0;34m[\u001b[0m\u001b[0mj\u001b[0m\u001b[0;34m]\u001b[0m\u001b[0;34m)\u001b[0m\u001b[0;34m\u001b[0m\u001b[0;34m\u001b[0m\u001b[0m\n\u001b[0m\u001b[1;32m     10\u001b[0m     \u001b[0mj\u001b[0m\u001b[0;34m+=\u001b[0m\u001b[0;36m1\u001b[0m\u001b[0;34m\u001b[0m\u001b[0;34m\u001b[0m\u001b[0m\n\u001b[1;32m     11\u001b[0m   \u001b[0;32melif\u001b[0m \u001b[0mj\u001b[0m \u001b[0;34m==\u001b[0m \u001b[0mlen\u001b[0m\u001b[0;34m(\u001b[0m\u001b[0mli2\u001b[0m\u001b[0;34m)\u001b[0m \u001b[0;34m-\u001b[0m \u001b[0;36m1\u001b[0m\u001b[0;34m:\u001b[0m\u001b[0;34m\u001b[0m\u001b[0;34m\u001b[0m\u001b[0m\n",
            "\u001b[0;31mIndexError\u001b[0m: list index out of range"
          ]
        }
      ]
    },
    {
      "cell_type": "code",
      "source": [
        "a = [1,3,2]\n",
        "print(max(a))"
      ],
      "metadata": {
        "colab": {
          "base_uri": "https://localhost:8080/"
        },
        "id": "c2seCnnhTPlm",
        "outputId": "bfb71515-50d4-4f43-aeb7-bf55cff1b24f"
      },
      "execution_count": null,
      "outputs": [
        {
          "output_type": "stream",
          "name": "stdout",
          "text": [
            "3\n"
          ]
        }
      ]
    },
    {
      "cell_type": "code",
      "source": [
        "s = [1,2,1]\n",
        "print(sum(s))"
      ],
      "metadata": {
        "colab": {
          "base_uri": "https://localhost:8080/"
        },
        "id": "mT1NbjdSUs-8",
        "outputId": "a36fd6c7-535b-49d8-ba7f-14388cddd5af"
      },
      "execution_count": null,
      "outputs": [
        {
          "output_type": "stream",
          "name": "stdout",
          "text": [
            "4\n"
          ]
        }
      ]
    },
    {
      "cell_type": "code",
      "source": [
        "# Task - C\n",
        "def longest_sum(arr,maxsum,n):\n",
        "  right = 0\n",
        "  left = 0\n",
        "  sum = 0\n",
        "  length = 0\n",
        "  while right < k:\n",
        "    sum += arr[right]\n",
        "    while sum > maxsum:\n",
        "      sum -= arr[left]\n",
        "      left +=1\n",
        "    length = max(length,right - left + 1)\n",
        "    right -=1\n",
        "  return str(length)\n",
        "print(longest_sum([4,1,2,1,5],5,4))"
      ],
      "metadata": {
        "colab": {
          "base_uri": "https://localhost:8080/",
          "height": 297
        },
        "id": "Wzf2nfxrczXC",
        "outputId": "50448e4b-23e8-4edd-91b1-8f25c5223bd9"
      },
      "execution_count": null,
      "outputs": [
        {
          "output_type": "error",
          "ename": "IndexError",
          "evalue": "list index out of range",
          "traceback": [
            "\u001b[0;31m---------------------------------------------------------------------------\u001b[0m",
            "\u001b[0;31mIndexError\u001b[0m                                Traceback (most recent call last)",
            "\u001b[0;32m<ipython-input-16-ec7cb1a4f55c>\u001b[0m in \u001b[0;36m<cell line: 0>\u001b[0;34m()\u001b[0m\n\u001b[1;32m     13\u001b[0m     \u001b[0mright\u001b[0m \u001b[0;34m-=\u001b[0m\u001b[0;36m1\u001b[0m\u001b[0;34m\u001b[0m\u001b[0;34m\u001b[0m\u001b[0m\n\u001b[1;32m     14\u001b[0m   \u001b[0;32mreturn\u001b[0m \u001b[0mstr\u001b[0m\u001b[0;34m(\u001b[0m\u001b[0mlength\u001b[0m\u001b[0;34m)\u001b[0m\u001b[0;34m\u001b[0m\u001b[0;34m\u001b[0m\u001b[0m\n\u001b[0;32m---> 15\u001b[0;31m \u001b[0mprint\u001b[0m\u001b[0;34m(\u001b[0m\u001b[0mlongest_sum\u001b[0m\u001b[0;34m(\u001b[0m\u001b[0;34m[\u001b[0m\u001b[0;36m4\u001b[0m\u001b[0;34m,\u001b[0m\u001b[0;36m1\u001b[0m\u001b[0;34m,\u001b[0m\u001b[0;36m2\u001b[0m\u001b[0;34m,\u001b[0m\u001b[0;36m1\u001b[0m\u001b[0;34m,\u001b[0m\u001b[0;36m5\u001b[0m\u001b[0;34m]\u001b[0m\u001b[0;34m,\u001b[0m\u001b[0;36m5\u001b[0m\u001b[0;34m,\u001b[0m\u001b[0;36m4\u001b[0m\u001b[0;34m)\u001b[0m\u001b[0;34m)\u001b[0m\u001b[0;34m\u001b[0m\u001b[0;34m\u001b[0m\u001b[0m\n\u001b[0m",
            "\u001b[0;32m<ipython-input-16-ec7cb1a4f55c>\u001b[0m in \u001b[0;36mlongest_sum\u001b[0;34m(arr, maxsum, n)\u001b[0m\n\u001b[1;32m      6\u001b[0m   \u001b[0mlength\u001b[0m \u001b[0;34m=\u001b[0m \u001b[0;36m0\u001b[0m\u001b[0;34m\u001b[0m\u001b[0;34m\u001b[0m\u001b[0m\n\u001b[1;32m      7\u001b[0m   \u001b[0;32mwhile\u001b[0m \u001b[0mright\u001b[0m \u001b[0;34m<\u001b[0m \u001b[0mk\u001b[0m\u001b[0;34m:\u001b[0m\u001b[0;34m\u001b[0m\u001b[0;34m\u001b[0m\u001b[0m\n\u001b[0;32m----> 8\u001b[0;31m     \u001b[0msum\u001b[0m \u001b[0;34m+=\u001b[0m \u001b[0marr\u001b[0m\u001b[0;34m[\u001b[0m\u001b[0mright\u001b[0m\u001b[0;34m]\u001b[0m\u001b[0;34m\u001b[0m\u001b[0;34m\u001b[0m\u001b[0m\n\u001b[0m\u001b[1;32m      9\u001b[0m     \u001b[0;32mwhile\u001b[0m \u001b[0msum\u001b[0m \u001b[0;34m>\u001b[0m \u001b[0mmaxsum\u001b[0m\u001b[0;34m:\u001b[0m\u001b[0;34m\u001b[0m\u001b[0;34m\u001b[0m\u001b[0m\n\u001b[1;32m     10\u001b[0m       \u001b[0msum\u001b[0m \u001b[0;34m-=\u001b[0m \u001b[0marr\u001b[0m\u001b[0;34m[\u001b[0m\u001b[0mleft\u001b[0m\u001b[0;34m]\u001b[0m\u001b[0;34m\u001b[0m\u001b[0;34m\u001b[0m\u001b[0m\n",
            "\u001b[0;31mIndexError\u001b[0m: list index out of range"
          ]
        }
      ]
    },
    {
      "cell_type": "code",
      "source": [
        "#Task - C\n",
        "a = input().split()\n",
        "n = int(a[0])\n",
        "k = int(a[1])\n",
        "left = 0\n",
        "right = 0\n",
        "current = 0\n",
        "length = 0\n",
        "arr = list(map(int,input().split()))\n",
        "for right in range(n):\n",
        "  current += arr[right]\n",
        "  while current > k:\n",
        "    current -= arr[left]\n",
        "    left += 1\n",
        "  length = max(length,right - left + 1)\n",
        "print(length)\n"
      ],
      "metadata": {
        "colab": {
          "base_uri": "https://localhost:8080/"
        },
        "id": "7AStvykzfDAs",
        "outputId": "b10c812e-4744-40c4-beed-8120aa3f5380"
      },
      "execution_count": null,
      "outputs": [
        {
          "output_type": "stream",
          "name": "stdout",
          "text": [
            "10 12\n",
            "1 2 6 4 3 2 3 1 4 2\n",
            "5\n"
          ]
        }
      ]
    },
    {
      "cell_type": "code",
      "source": [
        "# Task - C\n",
        "a = input().split()\n",
        "n = int(a[0])\n",
        "k = int(a[1])\n",
        "i = 0\n",
        "j = 0\n",
        "arr = [1,2,6,4,3,2,3,1,4,2]\n",
        "length = []\n",
        "new = []\n",
        "for i in range(len(arr)):\n",
        "  if arr[i] == k:\n",
        "    length.append(1)\n",
        "  elif arr [i] < k:\n",
        "    new.append(arr[i])\n",
        "    if sum(new) == k:\n",
        "      length.append(len(new))\n",
        "if len(new) == 0:\n",
        "  print(0)\n",
        "else:\n",
        "  print(max(length))"
      ],
      "metadata": {
        "id": "7B4DZFeHgIFi",
        "colab": {
          "base_uri": "https://localhost:8080/",
          "height": 193
        },
        "outputId": "2e6cd410-ffa4-4f63-90b5-a7a70a354e0b"
      },
      "execution_count": null,
      "outputs": [
        {
          "name": "stdout",
          "output_type": "stream",
          "text": [
            "10 12\n"
          ]
        },
        {
          "output_type": "error",
          "ename": "ValueError",
          "evalue": "max() arg is an empty sequence",
          "traceback": [
            "\u001b[0;31m---------------------------------------------------------------------------\u001b[0m",
            "\u001b[0;31mValueError\u001b[0m                                Traceback (most recent call last)",
            "\u001b[0;32m<ipython-input-14-46e3be946a43>\u001b[0m in \u001b[0;36m<cell line: 0>\u001b[0;34m()\u001b[0m\n\u001b[1;32m     18\u001b[0m   \u001b[0mprint\u001b[0m\u001b[0;34m(\u001b[0m\u001b[0;36m0\u001b[0m\u001b[0;34m)\u001b[0m\u001b[0;34m\u001b[0m\u001b[0;34m\u001b[0m\u001b[0m\n\u001b[1;32m     19\u001b[0m \u001b[0;32melse\u001b[0m\u001b[0;34m:\u001b[0m\u001b[0;34m\u001b[0m\u001b[0;34m\u001b[0m\u001b[0m\n\u001b[0;32m---> 20\u001b[0;31m   \u001b[0mprint\u001b[0m\u001b[0;34m(\u001b[0m\u001b[0mmax\u001b[0m\u001b[0;34m(\u001b[0m\u001b[0mlength\u001b[0m\u001b[0;34m)\u001b[0m\u001b[0;34m)\u001b[0m\u001b[0;34m\u001b[0m\u001b[0;34m\u001b[0m\u001b[0m\n\u001b[0m",
            "\u001b[0;31mValueError\u001b[0m: max() arg is an empty sequence"
          ]
        }
      ]
    },
    {
      "cell_type": "code",
      "source": [
        "print(13 // 2)"
      ],
      "metadata": {
        "colab": {
          "base_uri": "https://localhost:8080/"
        },
        "id": "qMy_ntf2Ys-5",
        "outputId": "e871de66-676c-4f25-ca4d-49dc137f77e0"
      },
      "execution_count": null,
      "outputs": [
        {
          "output_type": "stream",
          "name": "stdout",
          "text": [
            "6\n"
          ]
        }
      ]
    },
    {
      "cell_type": "code",
      "source": [
        "# Task - D\n",
        "def binary(s,lb,ub):\n",
        "  while lb < ub:\n",
        "    mid = (lb + ub) // 2\n",
        "    if a[mid] == \"1\":\n",
        "      ub = mid -1\n",
        "    elif a[mid] == \"0\":\n",
        "      lb = mid + 1\n",
        "  return lb\n",
        "\n",
        "for i in range(int(input())):\n",
        "  a = str(input())\n",
        "  print(binary(a,0,len(a) - 1))\n"
      ],
      "metadata": {
        "colab": {
          "base_uri": "https://localhost:8080/"
        },
        "id": "0E03Ta2EXvmA",
        "outputId": "c65a4471-ec69-47e5-97dd-d9cfc7fd5800"
      },
      "execution_count": null,
      "outputs": [
        {
          "output_type": "stream",
          "name": "stdout",
          "text": [
            "3\n",
            "\"0000011111111\"\n",
            "6\n",
            "\"0000000\"\n",
            "8\n",
            "\"11111\"\n",
            "0\n"
          ]
        }
      ]
    },
    {
      "cell_type": "code",
      "source": [
        "def binary(a, lb, ub):\n",
        "    flag = 0\n",
        "    while lb <= ub:\n",
        "        mid = (lb + ub) // 2\n",
        "        if a[mid] == \"1\" and a[mid - 1] == \"0\":\n",
        "            flag = 1\n",
        "            return mid + 1\n",
        "        elif a[mid] == \"1\":\n",
        "            ub = mid - 1\n",
        "            flag = 1\n",
        "        elif a[mid] == \"0\":\n",
        "            lb = mid + 1\n",
        "    if flag == 0:\n",
        "        return -1\n",
        "    return mid + 1\n",
        "\n",
        "for i in range(int(input())):\n",
        "    a = str(input())\n",
        "    print(binary(a, 0, len(a) - 1))"
      ],
      "metadata": {
        "colab": {
          "base_uri": "https://localhost:8080/"
        },
        "id": "q2ApIQc0m3s5",
        "outputId": "933fa733-40b3-48fa-d298-8a437173e7a4"
      },
      "execution_count": null,
      "outputs": [
        {
          "output_type": "stream",
          "name": "stdout",
          "text": [
            "4\n",
            "0000000000000111111111111111111111\n",
            "14\n",
            "00000\n",
            "-1\n",
            "1111\n",
            "1\n",
            "0000011111111\n",
            "6\n"
          ]
        }
      ]
    },
    {
      "cell_type": "code",
      "source": [
        "def binary(s,lb,ub):\n",
        "  flag = 0\n",
        "  while lb <= ub:\n",
        "    mid = (lb + ub) // 2\n",
        "    if a[mid] == 1 and a[mid - 1] == 0:\n",
        "      flag = 1\n",
        "      return mid + 1\n",
        "    elif a[mid] == \"1\":\n",
        "      ub = mid - 1\n",
        "      flag = 1\n",
        "      # mid = (lb + ub) //2\n",
        "    elif a[mid] == \"0\":\n",
        "      lb = mid + 1\n",
        "      # mid = (lb + ub) // 2\n",
        "  if flag == 0:\n",
        "    return -1\n",
        "  return mid + 1\n",
        "\n",
        "for i in range(int(input())):\n",
        "  a = str(input())\n",
        "  print(binary(a,0,len(a) - 1))"
      ],
      "metadata": {
        "colab": {
          "base_uri": "https://localhost:8080/",
          "height": 408
        },
        "id": "CGKh_dsPM4lk",
        "outputId": "01737e38-8885-437b-c2a7-8b9f2cf37ada"
      },
      "execution_count": null,
      "outputs": [
        {
          "output_type": "stream",
          "name": "stdout",
          "text": [
            "3\n",
            "0000000000000111111111111111111111\n",
            "13\n"
          ]
        },
        {
          "output_type": "error",
          "ename": "KeyboardInterrupt",
          "evalue": "Interrupted by user",
          "traceback": [
            "\u001b[0;31m---------------------------------------------------------------------------\u001b[0m",
            "\u001b[0;31mKeyboardInterrupt\u001b[0m                         Traceback (most recent call last)",
            "\u001b[0;32m<ipython-input-31-0ae28b8d65a7>\u001b[0m in \u001b[0;36m<cell line: 0>\u001b[0;34m()\u001b[0m\n\u001b[1;32m     18\u001b[0m \u001b[0;34m\u001b[0m\u001b[0m\n\u001b[1;32m     19\u001b[0m \u001b[0;32mfor\u001b[0m \u001b[0mi\u001b[0m \u001b[0;32min\u001b[0m \u001b[0mrange\u001b[0m\u001b[0;34m(\u001b[0m\u001b[0mint\u001b[0m\u001b[0;34m(\u001b[0m\u001b[0minput\u001b[0m\u001b[0;34m(\u001b[0m\u001b[0;34m)\u001b[0m\u001b[0;34m)\u001b[0m\u001b[0;34m)\u001b[0m\u001b[0;34m:\u001b[0m\u001b[0;34m\u001b[0m\u001b[0;34m\u001b[0m\u001b[0m\n\u001b[0;32m---> 20\u001b[0;31m   \u001b[0ma\u001b[0m \u001b[0;34m=\u001b[0m \u001b[0mstr\u001b[0m\u001b[0;34m(\u001b[0m\u001b[0minput\u001b[0m\u001b[0;34m(\u001b[0m\u001b[0;34m)\u001b[0m\u001b[0;34m)\u001b[0m\u001b[0;34m\u001b[0m\u001b[0;34m\u001b[0m\u001b[0m\n\u001b[0m\u001b[1;32m     21\u001b[0m   \u001b[0mprint\u001b[0m\u001b[0;34m(\u001b[0m\u001b[0mbinary\u001b[0m\u001b[0;34m(\u001b[0m\u001b[0ma\u001b[0m\u001b[0;34m,\u001b[0m\u001b[0;36m0\u001b[0m\u001b[0;34m,\u001b[0m\u001b[0mlen\u001b[0m\u001b[0;34m(\u001b[0m\u001b[0ma\u001b[0m\u001b[0;34m)\u001b[0m \u001b[0;34m-\u001b[0m \u001b[0;36m1\u001b[0m\u001b[0;34m)\u001b[0m\u001b[0;34m)\u001b[0m\u001b[0;34m\u001b[0m\u001b[0;34m\u001b[0m\u001b[0m\n",
            "\u001b[0;32m/usr/local/lib/python3.11/dist-packages/ipykernel/kernelbase.py\u001b[0m in \u001b[0;36mraw_input\u001b[0;34m(self, prompt)\u001b[0m\n\u001b[1;32m   1175\u001b[0m                 \u001b[0;34m\"raw_input was called, but this frontend does not support input requests.\"\u001b[0m\u001b[0;34m\u001b[0m\u001b[0;34m\u001b[0m\u001b[0m\n\u001b[1;32m   1176\u001b[0m             )\n\u001b[0;32m-> 1177\u001b[0;31m         return self._input_request(\n\u001b[0m\u001b[1;32m   1178\u001b[0m             \u001b[0mstr\u001b[0m\u001b[0;34m(\u001b[0m\u001b[0mprompt\u001b[0m\u001b[0;34m)\u001b[0m\u001b[0;34m,\u001b[0m\u001b[0;34m\u001b[0m\u001b[0;34m\u001b[0m\u001b[0m\n\u001b[1;32m   1179\u001b[0m             \u001b[0mself\u001b[0m\u001b[0;34m.\u001b[0m\u001b[0m_parent_ident\u001b[0m\u001b[0;34m[\u001b[0m\u001b[0;34m\"shell\"\u001b[0m\u001b[0;34m]\u001b[0m\u001b[0;34m,\u001b[0m\u001b[0;34m\u001b[0m\u001b[0;34m\u001b[0m\u001b[0m\n",
            "\u001b[0;32m/usr/local/lib/python3.11/dist-packages/ipykernel/kernelbase.py\u001b[0m in \u001b[0;36m_input_request\u001b[0;34m(self, prompt, ident, parent, password)\u001b[0m\n\u001b[1;32m   1217\u001b[0m             \u001b[0;32mexcept\u001b[0m \u001b[0mKeyboardInterrupt\u001b[0m\u001b[0;34m:\u001b[0m\u001b[0;34m\u001b[0m\u001b[0;34m\u001b[0m\u001b[0m\n\u001b[1;32m   1218\u001b[0m                 \u001b[0;31m# re-raise KeyboardInterrupt, to truncate traceback\u001b[0m\u001b[0;34m\u001b[0m\u001b[0;34m\u001b[0m\u001b[0m\n\u001b[0;32m-> 1219\u001b[0;31m                 \u001b[0;32mraise\u001b[0m \u001b[0mKeyboardInterrupt\u001b[0m\u001b[0;34m(\u001b[0m\u001b[0;34m\"Interrupted by user\"\u001b[0m\u001b[0;34m)\u001b[0m \u001b[0;32mfrom\u001b[0m \u001b[0;32mNone\u001b[0m\u001b[0;34m\u001b[0m\u001b[0;34m\u001b[0m\u001b[0m\n\u001b[0m\u001b[1;32m   1220\u001b[0m             \u001b[0;32mexcept\u001b[0m \u001b[0mException\u001b[0m\u001b[0;34m:\u001b[0m\u001b[0;34m\u001b[0m\u001b[0;34m\u001b[0m\u001b[0m\n\u001b[1;32m   1221\u001b[0m                 \u001b[0mself\u001b[0m\u001b[0;34m.\u001b[0m\u001b[0mlog\u001b[0m\u001b[0;34m.\u001b[0m\u001b[0mwarning\u001b[0m\u001b[0;34m(\u001b[0m\u001b[0;34m\"Invalid Message:\"\u001b[0m\u001b[0;34m,\u001b[0m \u001b[0mexc_info\u001b[0m\u001b[0;34m=\u001b[0m\u001b[0;32mTrue\u001b[0m\u001b[0;34m)\u001b[0m\u001b[0;34m\u001b[0m\u001b[0;34m\u001b[0m\u001b[0m\n",
            "\u001b[0;31mKeyboardInterrupt\u001b[0m: Interrupted by user"
          ]
        }
      ]
    },
    {
      "cell_type": "code",
      "source": [
        "\n",
        "def binary(s,lb,ub):\n",
        "  gidx = 0\n",
        "  flag = 0\n",
        "  while lb <= ub:\n",
        "    mid = (lb + ub) // 2\n",
        "    if a[mid] == \"1\":\n",
        "      ub = mid -1\n",
        "      idx = mid\n",
        "      flag = 1\n",
        "      #mid = (lb + ub) //2\n",
        "    elif a[mid] == \"0\":\n",
        "      lb = mid + 1\n",
        "      idx = mid\n",
        "      #mid = (lb + ub) // 2\n",
        "  if flag == 0:\n",
        "    return -1\n",
        "  return idx + 1\n",
        "\n",
        "for i in range(int(input())):\n",
        "  a = str(input())\n",
        "  print(binary(a,0,len(a) - 1))"
      ],
      "metadata": {
        "colab": {
          "base_uri": "https://localhost:8080/"
        },
        "id": "9MexMjhke9Sv",
        "outputId": "babd9b6b-f32a-4251-c793-b19b53a634ec"
      },
      "execution_count": null,
      "outputs": [
        {
          "name": "stdout",
          "output_type": "stream",
          "text": [
            "1\n",
            "\"0000\"\n"
          ]
        }
      ]
    },
    {
      "cell_type": "code",
      "source": [
        "# Task - D\n",
        "target = \"1\"\n",
        "idx = 0\n",
        "flag = 0\n",
        "for i in range(int(input())):\n",
        "  a = str(input())\n",
        "for j in range(len(a)):\n",
        "  if a[j] == target:\n",
        "    print(j)\n",
        "    flag = 0\n",
        "    break\n",
        "  else:\n",
        "    flag = 1\n",
        "if flag == 1:\n",
        "  print(-1)\n",
        "# if flag == 1:\n",
        "#   print(idx + 1)\n",
        "# else:\n",
        "#   print(-1)\n",
        "# while li[idx] != target:\n",
        "#   idx +=1\n",
        "#   if li[idx] == target:\n",
        "#     idx = idx\n",
        "#     break\n",
        "#   else:\n",
        "#     idx = -1"
      ],
      "metadata": {
        "colab": {
          "base_uri": "https://localhost:8080/"
        },
        "id": "z0e5t7c6gJ0y",
        "outputId": "7ca3859e-ee1f-4a44-e89a-432c110e2d88"
      },
      "execution_count": null,
      "outputs": [
        {
          "output_type": "stream",
          "name": "stdout",
          "text": [
            "2\n",
            "\"0000011111111\"\n",
            "\"000000\"\n",
            "-1\n"
          ]
        }
      ]
    },
    {
      "cell_type": "code",
      "source": [
        "# Task - D\n",
        "flag = 0\n",
        "for i in range(int(input())):\n",
        "  s = str(input())\n",
        "  for j in range(len(s)):\n",
        "    if s[j] == \"1\":\n",
        "      print(j+1)\n",
        "      flag = 0\n",
        "      break\n",
        "    else:\n",
        "      flag = 1\n",
        "  if flag == 1:\n",
        "    print(-1)\n",
        "\n",
        "# if flag == 1:\n",
        "#   print(idx + 1)\n",
        "# else:\n",
        "#   print(-1)\n",
        "# while li[idx] != target:\n",
        "#   idx +=1\n",
        "#   if li[idx] == target:\n",
        "\n",
        "#     idx = idx\n",
        "#     break\n",
        "#   else:\n",
        "#     idx = -1"
      ],
      "metadata": {
        "colab": {
          "base_uri": "https://localhost:8080/"
        },
        "id": "LlMSs0eFyC9K",
        "outputId": "b1afd454-a5dc-44b6-b0a4-3b3000790c27"
      },
      "execution_count": null,
      "outputs": [
        {
          "output_type": "stream",
          "name": "stdout",
          "text": [
            "2\n",
            "\"0000000000000001\"\n",
            "16\n",
            "\"000000\"\n",
            "-1\n"
          ]
        }
      ]
    },
    {
      "cell_type": "code",
      "source": [
        "a = \"000000\"\n",
        "idx = 0\n",
        "flag = 0\n",
        "for i in range(len(a)):\n",
        "  if a[i] == \"1\":\n",
        "    print(i+1)\n",
        "    flag = 0\n",
        "    break\n",
        "  else:\n",
        "    flag = 1\n",
        "if flag == 1:\n",
        "  print(-1)"
      ],
      "metadata": {
        "colab": {
          "base_uri": "https://localhost:8080/"
        },
        "id": "39TeQWsHyRCE",
        "outputId": "13dfe1a7-44e4-46a4-978d-4a383aa25f71"
      },
      "execution_count": null,
      "outputs": [
        {
          "output_type": "stream",
          "name": "stdout",
          "text": [
            "-1\n"
          ]
        }
      ]
    },
    {
      "cell_type": "code",
      "source": [
        "# Task-E (TLE on test 12)\n",
        "a = input().split()\n",
        "l = int(a[0])\n",
        "q = int(a[1])\n",
        "li = list(map(int,input().split()))\n",
        "li2 = []\n",
        "count = 0\n",
        "i = 0\n",
        "lb = 0\n",
        "ub = len(li) - 1\n",
        "mid = (ub + lb) // 2\n",
        "for i in range(q):\n",
        "  b = input().split()\n",
        "  x = int(b[0])\n",
        "  y = int(b[1])\n",
        "  for i in range(len(li)):\n",
        "    if li[i] >= x and li[i] <= y:\n",
        "      count+=1\n",
        "    elif li[i] > y:\n",
        "      break\n",
        "  print(count)\n",
        "  count = 0"
      ],
      "metadata": {
        "colab": {
          "base_uri": "https://localhost:8080/",
          "height": 228
        },
        "id": "PUtJ7e0JLGXf",
        "outputId": "f8bff31a-f3f7-4415-c6ca-201854701b1a"
      },
      "execution_count": null,
      "outputs": [
        {
          "name": "stdout",
          "output_type": "stream",
          "text": [
            "3\n"
          ]
        },
        {
          "output_type": "error",
          "ename": "IndexError",
          "evalue": "list index out of range",
          "traceback": [
            "\u001b[0;31m---------------------------------------------------------------------------\u001b[0m",
            "\u001b[0;31mIndexError\u001b[0m                                Traceback (most recent call last)",
            "\u001b[0;32m<ipython-input-26-f3003d77804a>\u001b[0m in \u001b[0;36m<cell line: 0>\u001b[0;34m()\u001b[0m\n\u001b[1;32m      2\u001b[0m \u001b[0ma\u001b[0m \u001b[0;34m=\u001b[0m \u001b[0minput\u001b[0m\u001b[0;34m(\u001b[0m\u001b[0;34m)\u001b[0m\u001b[0;34m.\u001b[0m\u001b[0msplit\u001b[0m\u001b[0;34m(\u001b[0m\u001b[0;34m)\u001b[0m\u001b[0;34m\u001b[0m\u001b[0;34m\u001b[0m\u001b[0m\n\u001b[1;32m      3\u001b[0m \u001b[0ml\u001b[0m \u001b[0;34m=\u001b[0m \u001b[0mint\u001b[0m\u001b[0;34m(\u001b[0m\u001b[0ma\u001b[0m\u001b[0;34m[\u001b[0m\u001b[0;36m0\u001b[0m\u001b[0;34m]\u001b[0m\u001b[0;34m)\u001b[0m\u001b[0;34m\u001b[0m\u001b[0;34m\u001b[0m\u001b[0m\n\u001b[0;32m----> 4\u001b[0;31m \u001b[0mq\u001b[0m \u001b[0;34m=\u001b[0m \u001b[0mint\u001b[0m\u001b[0;34m(\u001b[0m\u001b[0ma\u001b[0m\u001b[0;34m[\u001b[0m\u001b[0;36m1\u001b[0m\u001b[0;34m]\u001b[0m\u001b[0;34m)\u001b[0m\u001b[0;34m\u001b[0m\u001b[0;34m\u001b[0m\u001b[0m\n\u001b[0m\u001b[1;32m      5\u001b[0m \u001b[0mli\u001b[0m \u001b[0;34m=\u001b[0m \u001b[0mlist\u001b[0m\u001b[0;34m(\u001b[0m\u001b[0mmap\u001b[0m\u001b[0;34m(\u001b[0m\u001b[0mint\u001b[0m\u001b[0;34m,\u001b[0m\u001b[0minput\u001b[0m\u001b[0;34m(\u001b[0m\u001b[0;34m)\u001b[0m\u001b[0;34m.\u001b[0m\u001b[0msplit\u001b[0m\u001b[0;34m(\u001b[0m\u001b[0;34m)\u001b[0m\u001b[0;34m)\u001b[0m\u001b[0;34m)\u001b[0m\u001b[0;34m\u001b[0m\u001b[0;34m\u001b[0m\u001b[0m\n\u001b[1;32m      6\u001b[0m \u001b[0mli2\u001b[0m \u001b[0;34m=\u001b[0m \u001b[0;34m[\u001b[0m\u001b[0;34m]\u001b[0m\u001b[0;34m\u001b[0m\u001b[0;34m\u001b[0m\u001b[0m\n",
            "\u001b[0;31mIndexError\u001b[0m: list index out of range"
          ]
        }
      ]
    },
    {
      "cell_type": "code",
      "source": [],
      "metadata": {
        "id": "Wg93aD73L1mB"
      },
      "execution_count": null,
      "outputs": []
    },
    {
      "cell_type": "code",
      "source": [
        "# Task-E\n",
        "a = input().split()\n",
        "l = int(a[0])\n",
        "q = int(a[1])\n",
        "li = list(map(int,input().split()))\n",
        "# print(li.index(20))\n",
        "li2 = []\n",
        "count = 0\n",
        "i = 0\n",
        "# b = input().split()\n",
        "# x = int(b[0])\n",
        "# y = int(b[1])\n",
        "lb = 0\n",
        "ub = len(li) - 1\n",
        "mid = (ub + lb) // 2\n",
        "# while lb <= ub:\n",
        "#   lb =\n",
        "\n",
        "  print(count)\n",
        "  count = 0"
      ],
      "metadata": {
        "id": "ZqggN7BFgL_a",
        "colab": {
          "base_uri": "https://localhost:8080/"
        },
        "outputId": "3c3ae3f4-9b5a-49a5-9387-8704bba546d4"
      },
      "execution_count": null,
      "outputs": [
        {
          "output_type": "stream",
          "name": "stdout",
          "text": [
            "5 3\n",
            "10 20 20 45 79\n",
            "20 50\n",
            "3\n",
            "5 45\n",
            "4\n",
            "1 100\n",
            "5\n"
          ]
        }
      ]
    },
    {
      "cell_type": "code",
      "source": [
        "# Task-E\n",
        "def count_nums():\n",
        "  a = input().split()\n",
        "  l = int(a[0])\n",
        "  q = int(a[1])\n",
        "  li = list(map(int,input().split()))\n",
        "  # print(li)\n",
        "  li2 = []\n",
        "  # b = input().split()\n",
        "  # x = int(b[0])\n",
        "  # y = int(b[1])\n",
        "  count = 0\n",
        "  # for i in range(q):\n",
        "  #   b = input().split()\n",
        "  #   x = int(b[0])\n",
        "  #   y = int(b[1])\n",
        "\n",
        "  for j in li:\n",
        "    if j >= x and j <= y:\n",
        "      count+=1\n",
        "  return count\n",
        "b = input().split()\n",
        "x = int(b[0])\n",
        "y = int(b[1])\n",
        "print(count_nums())"
      ],
      "metadata": {
        "colab": {
          "base_uri": "https://localhost:8080/"
        },
        "id": "DEcRMAd_3Gkc",
        "outputId": "cd377421-dc85-43ce-fe42-2f9419cb86a5"
      },
      "execution_count": null,
      "outputs": [
        {
          "output_type": "stream",
          "name": "stdout",
          "text": [
            "5 3\n",
            "10 20 20 45 79\n",
            "20 50\n",
            "0\n"
          ]
        }
      ]
    }
  ]
}