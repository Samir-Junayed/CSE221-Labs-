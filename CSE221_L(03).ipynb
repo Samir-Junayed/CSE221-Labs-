{
  "nbformat": 4,
  "nbformat_minor": 0,
  "metadata": {
    "colab": {
      "provenance": []
    },
    "kernelspec": {
      "name": "python3",
      "display_name": "Python 3"
    },
    "language_info": {
      "name": "python"
    }
  },
  "cells": [
    {
      "cell_type": "code",
      "execution_count": null,
      "metadata": {
        "id": "0_jgOlPx5AeK",
        "colab": {
          "base_uri": "https://localhost:8080/",
          "height": 211
        },
        "outputId": "857cd657-516f-47e5-9efc-b35ed3567f44"
      },
      "outputs": [
        {
          "output_type": "error",
          "ename": "KeyboardInterrupt",
          "evalue": "",
          "traceback": [
            "\u001b[0;31m---------------------------------------------------------------------------\u001b[0m",
            "\u001b[0;31mKeyboardInterrupt\u001b[0m                         Traceback (most recent call last)",
            "\u001b[0;32m<ipython-input-9-0920024ff3cf>\u001b[0m in \u001b[0;36m<cell line: 0>\u001b[0;34m()\u001b[0m\n\u001b[1;32m      8\u001b[0m     \u001b[0mcount\u001b[0m\u001b[0;34m+=\u001b[0m\u001b[0;36m1\u001b[0m\u001b[0;34m\u001b[0m\u001b[0;34m\u001b[0m\u001b[0m\n\u001b[1;32m      9\u001b[0m     \u001b[0mj\u001b[0m\u001b[0;34m+=\u001b[0m\u001b[0;36m1\u001b[0m\u001b[0;34m\u001b[0m\u001b[0;34m\u001b[0m\u001b[0m\n\u001b[0;32m---> 10\u001b[0;31m   \u001b[0;32melif\u001b[0m \u001b[0mj\u001b[0m \u001b[0;34m==\u001b[0m \u001b[0mlen\u001b[0m\u001b[0;34m(\u001b[0m\u001b[0marr\u001b[0m\u001b[0;34m)\u001b[0m \u001b[0;34m-\u001b[0m \u001b[0;36m1\u001b[0m\u001b[0;34m:\u001b[0m\u001b[0;34m\u001b[0m\u001b[0;34m\u001b[0m\u001b[0m\n\u001b[0m\u001b[1;32m     11\u001b[0m     \u001b[0mj\u001b[0m \u001b[0;34m=\u001b[0m \u001b[0;36m0\u001b[0m\u001b[0;34m\u001b[0m\u001b[0;34m\u001b[0m\u001b[0m\n\u001b[1;32m     12\u001b[0m     \u001b[0mi\u001b[0m\u001b[0;34m+=\u001b[0m\u001b[0;36m1\u001b[0m\u001b[0;34m\u001b[0m\u001b[0;34m\u001b[0m\u001b[0m\n",
            "\u001b[0;31mKeyboardInterrupt\u001b[0m: "
          ]
        }
      ],
      "source": [
        "# Task - A\n",
        "count = 0\n",
        "i = 0\n",
        "arr = [1,2,5,4,3]\n",
        "while i < len(arr) - 1:\n",
        "  j = i + 1\n",
        "  if arr[i] > arr[j]:\n",
        "    count+=1\n",
        "    j+=1\n",
        "  elif j == len(arr) - 1:\n",
        "    j = 0\n",
        "    i+=1\n",
        "  else:\n",
        "    j+=1\n",
        "print(count)"
      ]
    },
    {
      "cell_type": "code",
      "source": [
        "def get_min_height_order(arr):\n",
        "    result = []\n",
        "    def build_balanced_bst(left, right):\n",
        "        if left > right:\n",
        "            return\n",
        "        mid = (left + right) // 2\n",
        "        result.append(arr[mid])  # Insert middle element first\n",
        "        build_balanced_bst(left, mid - 1)  # Left half\n",
        "        build_balanced_bst(mid + 1, right)  # Right half\n",
        "\n",
        "    build_balanced_bst(0, len(arr) - 1)\n",
        "    return result\n",
        "\n",
        "# Example usage:\n",
        "A = [1, 2, 3, 4, 5]\n",
        "print(get_min_height_order(A))\n"
      ],
      "metadata": {
        "colab": {
          "base_uri": "https://localhost:8080/"
        },
        "id": "Bkj1XhH7l6ey",
        "outputId": "e44a710c-9d52-4c0a-ae0e-61fac8b62cad"
      },
      "execution_count": null,
      "outputs": [
        {
          "output_type": "stream",
          "name": "stdout",
          "text": [
            "[3, 1, 2, 4, 5]\n"
          ]
        }
      ]
    },
    {
      "cell_type": "code",
      "source": [
        "count = 0\n",
        "new = []\n",
        "def merge(a, b):\n",
        "  global count\n",
        "  global new\n",
        "  i = 0\n",
        "  j = 0\n",
        "  while i < len(a) and j < len(b):\n",
        "    if a[i] > b[j]:\n",
        "      new.append(b[j])\n",
        "      count+=1\n",
        "      j+=1\n",
        "    else:\n",
        "      new.append(a[i])\n",
        "      i+=1\n",
        "  #print(new)\n",
        "  new.extend(a[i:])\n",
        "  new.extend(b[j:])\n",
        "  return new\n",
        "def mergeSort(arr):\n",
        "    if len(arr) <= 1:\n",
        "        return arr\n",
        "    else:\n",
        "        mid = len(arr)//2\n",
        "        mergeSort(arr[:mid])  # write the parameter\n",
        "        mergeSort(arr[mid:len(arr) - 1])  # write the parameter\n",
        "        return merge(a1, a2)\n",
        "print(mergeSort([1,2,5,4,3]))"
      ],
      "metadata": {
        "id": "qCbpRJGMkgzC",
        "colab": {
          "base_uri": "https://localhost:8080/",
          "height": 304
        },
        "outputId": "71b8e534-2153-4190-90f8-77a9920f3ed6"
      },
      "execution_count": null,
      "outputs": [
        {
          "output_type": "error",
          "ename": "NameError",
          "evalue": "name 'a1' is not defined",
          "traceback": [
            "\u001b[0;31m---------------------------------------------------------------------------\u001b[0m",
            "\u001b[0;31mNameError\u001b[0m                                 Traceback (most recent call last)",
            "\u001b[0;32m<ipython-input-1-26256d0ee290>\u001b[0m in \u001b[0;36m<cell line: 0>\u001b[0;34m()\u001b[0m\n\u001b[1;32m     26\u001b[0m         \u001b[0mmergeSort\u001b[0m\u001b[0;34m(\u001b[0m\u001b[0marr\u001b[0m\u001b[0;34m[\u001b[0m\u001b[0mmid\u001b[0m\u001b[0;34m:\u001b[0m\u001b[0mlen\u001b[0m\u001b[0;34m(\u001b[0m\u001b[0marr\u001b[0m\u001b[0;34m)\u001b[0m \u001b[0;34m-\u001b[0m \u001b[0;36m1\u001b[0m\u001b[0;34m]\u001b[0m\u001b[0;34m)\u001b[0m  \u001b[0;31m# write the parameter\u001b[0m\u001b[0;34m\u001b[0m\u001b[0;34m\u001b[0m\u001b[0m\n\u001b[1;32m     27\u001b[0m         \u001b[0;32mreturn\u001b[0m \u001b[0mmerge\u001b[0m\u001b[0;34m(\u001b[0m\u001b[0ma1\u001b[0m\u001b[0;34m,\u001b[0m \u001b[0ma2\u001b[0m\u001b[0;34m)\u001b[0m\u001b[0;34m\u001b[0m\u001b[0;34m\u001b[0m\u001b[0m\n\u001b[0;32m---> 28\u001b[0;31m \u001b[0mprint\u001b[0m\u001b[0;34m(\u001b[0m\u001b[0mmergeSort\u001b[0m\u001b[0;34m(\u001b[0m\u001b[0;34m[\u001b[0m\u001b[0;36m1\u001b[0m\u001b[0;34m,\u001b[0m\u001b[0;36m2\u001b[0m\u001b[0;34m,\u001b[0m\u001b[0;36m5\u001b[0m\u001b[0;34m,\u001b[0m\u001b[0;36m4\u001b[0m\u001b[0;34m,\u001b[0m\u001b[0;36m3\u001b[0m\u001b[0;34m]\u001b[0m\u001b[0;34m)\u001b[0m\u001b[0;34m)\u001b[0m\u001b[0;34m\u001b[0m\u001b[0;34m\u001b[0m\u001b[0m\n\u001b[0m",
            "\u001b[0;32m<ipython-input-1-26256d0ee290>\u001b[0m in \u001b[0;36mmergeSort\u001b[0;34m(arr)\u001b[0m\n\u001b[1;32m     23\u001b[0m     \u001b[0;32melse\u001b[0m\u001b[0;34m:\u001b[0m\u001b[0;34m\u001b[0m\u001b[0;34m\u001b[0m\u001b[0m\n\u001b[1;32m     24\u001b[0m         \u001b[0mmid\u001b[0m \u001b[0;34m=\u001b[0m \u001b[0mlen\u001b[0m\u001b[0;34m(\u001b[0m\u001b[0marr\u001b[0m\u001b[0;34m)\u001b[0m\u001b[0;34m//\u001b[0m\u001b[0;36m2\u001b[0m\u001b[0;34m\u001b[0m\u001b[0;34m\u001b[0m\u001b[0m\n\u001b[0;32m---> 25\u001b[0;31m         \u001b[0mmergeSort\u001b[0m\u001b[0;34m(\u001b[0m\u001b[0marr\u001b[0m\u001b[0;34m[\u001b[0m\u001b[0;34m:\u001b[0m\u001b[0mmid\u001b[0m\u001b[0;34m]\u001b[0m\u001b[0;34m)\u001b[0m  \u001b[0;31m# write the parameter\u001b[0m\u001b[0;34m\u001b[0m\u001b[0;34m\u001b[0m\u001b[0m\n\u001b[0m\u001b[1;32m     26\u001b[0m         \u001b[0mmergeSort\u001b[0m\u001b[0;34m(\u001b[0m\u001b[0marr\u001b[0m\u001b[0;34m[\u001b[0m\u001b[0mmid\u001b[0m\u001b[0;34m:\u001b[0m\u001b[0mlen\u001b[0m\u001b[0;34m(\u001b[0m\u001b[0marr\u001b[0m\u001b[0;34m)\u001b[0m \u001b[0;34m-\u001b[0m \u001b[0;36m1\u001b[0m\u001b[0;34m]\u001b[0m\u001b[0;34m)\u001b[0m  \u001b[0;31m# write the parameter\u001b[0m\u001b[0;34m\u001b[0m\u001b[0;34m\u001b[0m\u001b[0m\n\u001b[1;32m     27\u001b[0m         \u001b[0;32mreturn\u001b[0m \u001b[0mmerge\u001b[0m\u001b[0;34m(\u001b[0m\u001b[0ma1\u001b[0m\u001b[0;34m,\u001b[0m \u001b[0ma2\u001b[0m\u001b[0;34m)\u001b[0m\u001b[0;34m\u001b[0m\u001b[0;34m\u001b[0m\u001b[0m\n",
            "\u001b[0;32m<ipython-input-1-26256d0ee290>\u001b[0m in \u001b[0;36mmergeSort\u001b[0;34m(arr)\u001b[0m\n\u001b[1;32m     25\u001b[0m         \u001b[0mmergeSort\u001b[0m\u001b[0;34m(\u001b[0m\u001b[0marr\u001b[0m\u001b[0;34m[\u001b[0m\u001b[0;34m:\u001b[0m\u001b[0mmid\u001b[0m\u001b[0;34m]\u001b[0m\u001b[0;34m)\u001b[0m  \u001b[0;31m# write the parameter\u001b[0m\u001b[0;34m\u001b[0m\u001b[0;34m\u001b[0m\u001b[0m\n\u001b[1;32m     26\u001b[0m         \u001b[0mmergeSort\u001b[0m\u001b[0;34m(\u001b[0m\u001b[0marr\u001b[0m\u001b[0;34m[\u001b[0m\u001b[0mmid\u001b[0m\u001b[0;34m:\u001b[0m\u001b[0mlen\u001b[0m\u001b[0;34m(\u001b[0m\u001b[0marr\u001b[0m\u001b[0;34m)\u001b[0m \u001b[0;34m-\u001b[0m \u001b[0;36m1\u001b[0m\u001b[0;34m]\u001b[0m\u001b[0;34m)\u001b[0m  \u001b[0;31m# write the parameter\u001b[0m\u001b[0;34m\u001b[0m\u001b[0;34m\u001b[0m\u001b[0m\n\u001b[0;32m---> 27\u001b[0;31m         \u001b[0;32mreturn\u001b[0m \u001b[0mmerge\u001b[0m\u001b[0;34m(\u001b[0m\u001b[0ma1\u001b[0m\u001b[0;34m,\u001b[0m \u001b[0ma2\u001b[0m\u001b[0;34m)\u001b[0m\u001b[0;34m\u001b[0m\u001b[0;34m\u001b[0m\u001b[0m\n\u001b[0m\u001b[1;32m     28\u001b[0m \u001b[0mprint\u001b[0m\u001b[0;34m(\u001b[0m\u001b[0mmergeSort\u001b[0m\u001b[0;34m(\u001b[0m\u001b[0;34m[\u001b[0m\u001b[0;36m1\u001b[0m\u001b[0;34m,\u001b[0m\u001b[0;36m2\u001b[0m\u001b[0;34m,\u001b[0m\u001b[0;36m5\u001b[0m\u001b[0;34m,\u001b[0m\u001b[0;36m4\u001b[0m\u001b[0;34m,\u001b[0m\u001b[0;36m3\u001b[0m\u001b[0;34m]\u001b[0m\u001b[0;34m)\u001b[0m\u001b[0;34m)\u001b[0m\u001b[0;34m\u001b[0m\u001b[0;34m\u001b[0m\u001b[0m\n",
            "\u001b[0;31mNameError\u001b[0m: name 'a1' is not defined"
          ]
        }
      ]
    },
    {
      "cell_type": "code",
      "source": [
        "count = 0\n",
        "def merge(a, b):\n",
        "  global count\n",
        "  new = []\n",
        "  i = 0\n",
        "  j = 0\n",
        "  while i < len(a) and j < len(b):\n",
        "    if a[i] > b[j]:\n",
        "      new.append(b[j])\n",
        "      count+=1\n",
        "      j+=1\n",
        "    else:\n",
        "      new.append(a[i])\n",
        "      i+=1\n",
        "  new.extend(a[i:])\n",
        "  new.extend(b[j:])\n",
        "  # print(count)\n",
        "  return new\n",
        "def mergeSort(arr):\n",
        "    if len(arr) <= 1:\n",
        "        return arr\n",
        "    else:\n",
        "        mid = len(arr)//2\n",
        "        a1 = mergeSort(arr[:mid])\n",
        "        a2 = mergeSort(arr[mid:])\n",
        "        return merge(a1, a2)\n",
        "print(mergeSort([1,2,5,4,3]))"
      ],
      "metadata": {
        "colab": {
          "base_uri": "https://localhost:8080/"
        },
        "id": "6h0D6VyxFLtj",
        "outputId": "38f2341d-3601-4e4a-f3e4-6d34e41db3db"
      },
      "execution_count": null,
      "outputs": [
        {
          "output_type": "stream",
          "name": "stdout",
          "text": [
            "0\n",
            "1\n",
            "3\n",
            "3\n",
            "[1, 2, 3, 4, 5]\n"
          ]
        }
      ]
    },
    {
      "cell_type": "code",
      "source": [
        "# count = 0\n",
        "def merge(a, b):\n",
        "  # global count\n",
        "  new = []\n",
        "  i = 0\n",
        "  j = 0\n",
        "  k = 0\n",
        "  u = 0\n",
        "  while i < len(a) and j < len(b):\n",
        "    if a[i] > b[j]:\n",
        "      new.append(b[j])\n",
        "      # count+= len(a)\n",
        "      j+=1\n",
        "\n",
        "    else:\n",
        "      new.append(a[i])\n",
        "      i+=1\n",
        "  new.extend(a[i:])\n",
        "  new.extend(b[j:])\n",
        "\n",
        "  return new\n",
        "def mergeSort(arr,temp,l,r):\n",
        "    count = 0\n",
        "    if l < r:\n",
        "      mid = (l + r) // 2\n",
        "      count += mergeSort(arr,temp,l,mid)\n",
        "      count += mergeSort(arr,temp,mid + 1,r)\n",
        "      count += merge(arr,temp,l,mid,r)\n",
        "\n",
        "\n",
        "n = int(input())\n",
        "li = list(map(int,input().split()))\n",
        "array,IC=mergeSort(li,)\n",
        "print(IC)\n",
        "print(*array)"
      ],
      "metadata": {
        "colab": {
          "base_uri": "https://localhost:8080/",
          "height": 245
        },
        "id": "tOCEBXGgijhg",
        "outputId": "3fbbf7d8-05c9-4236-f768-d260e3a35fb2"
      },
      "execution_count": null,
      "outputs": [
        {
          "name": "stdout",
          "output_type": "stream",
          "text": [
            "7\n",
            "6 4 2 5 7 3 1\n"
          ]
        },
        {
          "output_type": "error",
          "ename": "TypeError",
          "evalue": "mergeSort() missing 3 required positional arguments: 'temp', 'l', and 'r'",
          "traceback": [
            "\u001b[0;31m---------------------------------------------------------------------------\u001b[0m",
            "\u001b[0;31mTypeError\u001b[0m                                 Traceback (most recent call last)",
            "\u001b[0;32m<ipython-input-1-87134e9bcfc7>\u001b[0m in \u001b[0;36m<cell line: 0>\u001b[0;34m()\u001b[0m\n\u001b[1;32m     31\u001b[0m \u001b[0mn\u001b[0m \u001b[0;34m=\u001b[0m \u001b[0mint\u001b[0m\u001b[0;34m(\u001b[0m\u001b[0minput\u001b[0m\u001b[0;34m(\u001b[0m\u001b[0;34m)\u001b[0m\u001b[0;34m)\u001b[0m\u001b[0;34m\u001b[0m\u001b[0;34m\u001b[0m\u001b[0m\n\u001b[1;32m     32\u001b[0m \u001b[0mli\u001b[0m \u001b[0;34m=\u001b[0m \u001b[0mlist\u001b[0m\u001b[0;34m(\u001b[0m\u001b[0mmap\u001b[0m\u001b[0;34m(\u001b[0m\u001b[0mint\u001b[0m\u001b[0;34m,\u001b[0m\u001b[0minput\u001b[0m\u001b[0;34m(\u001b[0m\u001b[0;34m)\u001b[0m\u001b[0;34m.\u001b[0m\u001b[0msplit\u001b[0m\u001b[0;34m(\u001b[0m\u001b[0;34m)\u001b[0m\u001b[0;34m)\u001b[0m\u001b[0;34m)\u001b[0m\u001b[0;34m\u001b[0m\u001b[0;34m\u001b[0m\u001b[0m\n\u001b[0;32m---> 33\u001b[0;31m \u001b[0marray\u001b[0m\u001b[0;34m,\u001b[0m\u001b[0mIC\u001b[0m\u001b[0;34m=\u001b[0m\u001b[0mmergeSort\u001b[0m\u001b[0;34m(\u001b[0m\u001b[0mli\u001b[0m\u001b[0;34m,\u001b[0m\u001b[0;34m)\u001b[0m\u001b[0;34m\u001b[0m\u001b[0;34m\u001b[0m\u001b[0m\n\u001b[0m\u001b[1;32m     34\u001b[0m \u001b[0mprint\u001b[0m\u001b[0;34m(\u001b[0m\u001b[0mIC\u001b[0m\u001b[0;34m)\u001b[0m\u001b[0;34m\u001b[0m\u001b[0;34m\u001b[0m\u001b[0m\n\u001b[1;32m     35\u001b[0m \u001b[0mprint\u001b[0m\u001b[0;34m(\u001b[0m\u001b[0;34m*\u001b[0m\u001b[0marray\u001b[0m\u001b[0;34m)\u001b[0m\u001b[0;34m\u001b[0m\u001b[0;34m\u001b[0m\u001b[0m\n",
            "\u001b[0;31mTypeError\u001b[0m: mergeSort() missing 3 required positional arguments: 'temp', 'l', and 'r'"
          ]
        }
      ]
    },
    {
      "cell_type": "code",
      "source": [],
      "metadata": {
        "id": "aCcLA6WaSoni"
      },
      "execution_count": null,
      "outputs": []
    },
    {
      "cell_type": "code",
      "source": [
        "count = 0\n",
        "def merge(a, b):\n",
        "  global count\n",
        "  new = []\n",
        "  i = 0\n",
        "  j = 0\n",
        "  # k = 0\n",
        "  # u = 0\n",
        "  while i < len(a) and j < len(b):\n",
        "    if a[i] > b[j]:\n",
        "      new.append(b[j])\n",
        "      count+= len(a) - i\n",
        "      j+=1\n",
        "\n",
        "    else:\n",
        "      new.append(a[i])\n",
        "      i+=1\n",
        "\n",
        "  new.extend(a[i:])\n",
        "  new.extend(b[j:])\n",
        "\n",
        "  return new\n",
        "def mergeSort(arr):\n",
        "    global count\n",
        "    if len(arr) <= 1:\n",
        "        return arr,count\n",
        "    else:\n",
        "        mid = len(arr)//2\n",
        "        a1,count = mergeSort(arr[:mid])\n",
        "        a2,count = mergeSort(arr[mid:])\n",
        "        return merge(a1, a2), count\n",
        "n = int(input())\n",
        "li = list(map(int,input().split()))\n",
        "array,IC=mergeSort(li)\n",
        "print(IC)\n",
        "print(*array)"
      ],
      "metadata": {
        "colab": {
          "base_uri": "https://localhost:8080/"
        },
        "id": "cX4HdMFNDLgc",
        "outputId": "3fd09ffa-0740-4f10-a475-a651d93ef51a"
      },
      "execution_count": null,
      "outputs": [
        {
          "output_type": "stream",
          "name": "stdout",
          "text": [
            "7\n",
            "6 4 2 5 7 3 1\n",
            "14\n",
            "1 2 3 4 5 6 7\n"
          ]
        }
      ]
    },
    {
      "cell_type": "code",
      "source": [
        "def maximum(arr):\n",
        "    if len(arr) == 1:  # Base case should return a single number\n",
        "        return arr[0]\n",
        "\n",
        "    mid = len(arr) // 2\n",
        "    left_max = maximum(arr[:mid])  # Recursively get max from left\n",
        "    right_max = maximum(arr[mid:]) # Recursively get max from right\n",
        "\n",
        "    ans = left_max + right_max * 2  # Compute answer\n",
        "\n",
        "    return left_max\n",
        "\n",
        "print(maximum([4,3,1,5,6]))\n"
      ],
      "metadata": {
        "colab": {
          "base_uri": "https://localhost:8080/"
        },
        "id": "mW-Ae3FGcRy9",
        "outputId": "b30b7307-e423-4647-d760-38dae11579c8"
      },
      "execution_count": null,
      "outputs": [
        {
          "output_type": "stream",
          "name": "stdout",
          "text": [
            "4\n"
          ]
        }
      ]
    },
    {
      "cell_type": "code",
      "source": [
        "count = 0\n",
        "def merge(a, b):\n",
        "  global count\n",
        "  new = []\n",
        "  i = 0\n",
        "  j = 0\n",
        "  while i < len(a) and j < len(b):\n",
        "    if a[i] > b[j]:\n",
        "      new.append(b[j])\n",
        "      count+=1\n",
        "      j+=1\n",
        "    else:\n",
        "      new.append(a[i])\n",
        "      i+=1\n",
        "  new.extend(a[i:])\n",
        "  new.extend(b[j:])\n",
        "  # print(count)\n",
        "  return new\n",
        "def mergeSort(arr):\n",
        "    global count\n",
        "    if len(arr) <= 1:\n",
        "        return arr,count\n",
        "    else:\n",
        "        mid = len(arr)//2\n",
        "        a1,count = mergeSort(arr[:mid])\n",
        "        a2,count = mergeSort(arr[mid:])\n",
        "        return merge(a1, a2), count\n",
        "n = int(input())\n",
        "print(\" \".join(map(str, mergeSort)))\n",
        "# array,IC=mergeSort([5,4,3,2,1])\n",
        "print(IC)\n",
        "print(array)"
      ],
      "metadata": {
        "colab": {
          "base_uri": "https://localhost:8080/",
          "height": 228
        },
        "id": "smYDScsYPp9o",
        "outputId": "82c7d395-54ae-4cca-9dc6-bbce60fb0b88"
      },
      "execution_count": null,
      "outputs": [
        {
          "name": "stdout",
          "output_type": "stream",
          "text": [
            "5\n"
          ]
        },
        {
          "output_type": "error",
          "ename": "TypeError",
          "evalue": "'function' object is not iterable",
          "traceback": [
            "\u001b[0;31m---------------------------------------------------------------------------\u001b[0m",
            "\u001b[0;31mTypeError\u001b[0m                                 Traceback (most recent call last)",
            "\u001b[0;32m<ipython-input-15-f32e3eecb649>\u001b[0m in \u001b[0;36m<cell line: 0>\u001b[0;34m()\u001b[0m\n\u001b[1;32m     27\u001b[0m         \u001b[0;32mreturn\u001b[0m \u001b[0mmerge\u001b[0m\u001b[0;34m(\u001b[0m\u001b[0ma1\u001b[0m\u001b[0;34m,\u001b[0m \u001b[0ma2\u001b[0m\u001b[0;34m)\u001b[0m\u001b[0;34m,\u001b[0m \u001b[0mcount\u001b[0m\u001b[0;34m\u001b[0m\u001b[0;34m\u001b[0m\u001b[0m\n\u001b[1;32m     28\u001b[0m \u001b[0mn\u001b[0m \u001b[0;34m=\u001b[0m \u001b[0mint\u001b[0m\u001b[0;34m(\u001b[0m\u001b[0minput\u001b[0m\u001b[0;34m(\u001b[0m\u001b[0;34m)\u001b[0m\u001b[0;34m)\u001b[0m\u001b[0;34m\u001b[0m\u001b[0;34m\u001b[0m\u001b[0m\n\u001b[0;32m---> 29\u001b[0;31m \u001b[0mprint\u001b[0m\u001b[0;34m(\u001b[0m\u001b[0;34m\" \"\u001b[0m\u001b[0;34m.\u001b[0m\u001b[0mjoin\u001b[0m\u001b[0;34m(\u001b[0m\u001b[0mmap\u001b[0m\u001b[0;34m(\u001b[0m\u001b[0mstr\u001b[0m\u001b[0;34m,\u001b[0m \u001b[0mmergeSort\u001b[0m\u001b[0;34m)\u001b[0m\u001b[0;34m)\u001b[0m\u001b[0;34m)\u001b[0m\u001b[0;34m\u001b[0m\u001b[0;34m\u001b[0m\u001b[0m\n\u001b[0m\u001b[1;32m     30\u001b[0m \u001b[0;31m# array,IC=mergeSort([5,4,3,2,1])\u001b[0m\u001b[0;34m\u001b[0m\u001b[0;34m\u001b[0m\u001b[0m\n\u001b[1;32m     31\u001b[0m \u001b[0mprint\u001b[0m\u001b[0;34m(\u001b[0m\u001b[0mIC\u001b[0m\u001b[0;34m)\u001b[0m\u001b[0;34m\u001b[0m\u001b[0;34m\u001b[0m\u001b[0m\n",
            "\u001b[0;31mTypeError\u001b[0m: 'function' object is not iterable"
          ]
        }
      ]
    },
    {
      "cell_type": "code",
      "source": [
        "# Task- B\n",
        "def maximum(arr):\n",
        "  if len(arr) <= 1:\n",
        "    return arr\n",
        "  mid = len(arr) // 2\n",
        "  left_max = maximum(arr[:mid])\n",
        "  right_max = maximum(arr[mid:])\n",
        "  i = 0\n",
        "  j = 0\n",
        "  while i <= len(left_max):\n",
        "    if left_max[i] < 0:\n",
        "      left_max[i] = left_max[i] *(-1)\n",
        "      i+=1\n",
        "    else:\n",
        "      i+=1\n",
        "  while j <= len(right_max):\n",
        "    if right_max[j] < 0:\n",
        "      right_max[j] = left_max[j] *(-1)\n",
        "      j+=1\n",
        "    else:\n",
        "      j+=1\n",
        "  l = max(left_max)\n",
        "  r = max(right_max)\n",
        "  ans = l + r*2\n",
        "  return l,r\n",
        "print(maximum([4,3,1,-9,6]))"
      ],
      "metadata": {
        "id": "CuuOZNIyLN4s",
        "colab": {
          "base_uri": "https://localhost:8080/",
          "height": 321
        },
        "outputId": "63bc89ee-a63a-4f39-99db-7dbc62bd25ff"
      },
      "execution_count": null,
      "outputs": [
        {
          "output_type": "error",
          "ename": "IndexError",
          "evalue": "list index out of range",
          "traceback": [
            "\u001b[0;31m---------------------------------------------------------------------------\u001b[0m",
            "\u001b[0;31mIndexError\u001b[0m                                Traceback (most recent call last)",
            "\u001b[0;32m<ipython-input-2-75ff50074a22>\u001b[0m in \u001b[0;36m<cell line: 0>\u001b[0;34m()\u001b[0m\n\u001b[1;32m     24\u001b[0m   \u001b[0mans\u001b[0m \u001b[0;34m=\u001b[0m \u001b[0ml\u001b[0m \u001b[0;34m+\u001b[0m \u001b[0mr\u001b[0m\u001b[0;34m*\u001b[0m\u001b[0;36m2\u001b[0m\u001b[0;34m\u001b[0m\u001b[0;34m\u001b[0m\u001b[0m\n\u001b[1;32m     25\u001b[0m   \u001b[0;32mreturn\u001b[0m \u001b[0ml\u001b[0m\u001b[0;34m,\u001b[0m\u001b[0mr\u001b[0m\u001b[0;34m\u001b[0m\u001b[0;34m\u001b[0m\u001b[0m\n\u001b[0;32m---> 26\u001b[0;31m \u001b[0mprint\u001b[0m\u001b[0;34m(\u001b[0m\u001b[0mmaximum\u001b[0m\u001b[0;34m(\u001b[0m\u001b[0;34m[\u001b[0m\u001b[0;36m4\u001b[0m\u001b[0;34m,\u001b[0m\u001b[0;36m3\u001b[0m\u001b[0;34m,\u001b[0m\u001b[0;36m1\u001b[0m\u001b[0;34m,\u001b[0m\u001b[0;34m-\u001b[0m\u001b[0;36m9\u001b[0m\u001b[0;34m,\u001b[0m\u001b[0;36m6\u001b[0m\u001b[0;34m]\u001b[0m\u001b[0;34m)\u001b[0m\u001b[0;34m)\u001b[0m\u001b[0;34m\u001b[0m\u001b[0;34m\u001b[0m\u001b[0m\n\u001b[0m",
            "\u001b[0;32m<ipython-input-2-75ff50074a22>\u001b[0m in \u001b[0;36mmaximum\u001b[0;34m(arr)\u001b[0m\n\u001b[1;32m      4\u001b[0m     \u001b[0;32mreturn\u001b[0m \u001b[0marr\u001b[0m\u001b[0;34m\u001b[0m\u001b[0;34m\u001b[0m\u001b[0m\n\u001b[1;32m      5\u001b[0m   \u001b[0mmid\u001b[0m \u001b[0;34m=\u001b[0m \u001b[0mlen\u001b[0m\u001b[0;34m(\u001b[0m\u001b[0marr\u001b[0m\u001b[0;34m)\u001b[0m \u001b[0;34m//\u001b[0m \u001b[0;36m2\u001b[0m\u001b[0;34m\u001b[0m\u001b[0;34m\u001b[0m\u001b[0m\n\u001b[0;32m----> 6\u001b[0;31m   \u001b[0mleft_max\u001b[0m \u001b[0;34m=\u001b[0m \u001b[0mmaximum\u001b[0m\u001b[0;34m(\u001b[0m\u001b[0marr\u001b[0m\u001b[0;34m[\u001b[0m\u001b[0;34m:\u001b[0m\u001b[0mmid\u001b[0m\u001b[0;34m]\u001b[0m\u001b[0;34m)\u001b[0m\u001b[0;34m\u001b[0m\u001b[0;34m\u001b[0m\u001b[0m\n\u001b[0m\u001b[1;32m      7\u001b[0m   \u001b[0mright_max\u001b[0m \u001b[0;34m=\u001b[0m \u001b[0mmaximum\u001b[0m\u001b[0;34m(\u001b[0m\u001b[0marr\u001b[0m\u001b[0;34m[\u001b[0m\u001b[0mmid\u001b[0m\u001b[0;34m:\u001b[0m\u001b[0;34m]\u001b[0m\u001b[0;34m)\u001b[0m\u001b[0;34m\u001b[0m\u001b[0;34m\u001b[0m\u001b[0m\n\u001b[1;32m      8\u001b[0m   \u001b[0mi\u001b[0m \u001b[0;34m=\u001b[0m \u001b[0;36m0\u001b[0m\u001b[0;34m\u001b[0m\u001b[0;34m\u001b[0m\u001b[0m\n",
            "\u001b[0;32m<ipython-input-2-75ff50074a22>\u001b[0m in \u001b[0;36mmaximum\u001b[0;34m(arr)\u001b[0m\n\u001b[1;32m      9\u001b[0m   \u001b[0mj\u001b[0m \u001b[0;34m=\u001b[0m \u001b[0;36m0\u001b[0m\u001b[0;34m\u001b[0m\u001b[0;34m\u001b[0m\u001b[0m\n\u001b[1;32m     10\u001b[0m   \u001b[0;32mwhile\u001b[0m \u001b[0mi\u001b[0m \u001b[0;34m<=\u001b[0m \u001b[0mlen\u001b[0m\u001b[0;34m(\u001b[0m\u001b[0mleft_max\u001b[0m\u001b[0;34m)\u001b[0m\u001b[0;34m:\u001b[0m\u001b[0;34m\u001b[0m\u001b[0;34m\u001b[0m\u001b[0m\n\u001b[0;32m---> 11\u001b[0;31m     \u001b[0;32mif\u001b[0m \u001b[0mleft_max\u001b[0m\u001b[0;34m[\u001b[0m\u001b[0mi\u001b[0m\u001b[0;34m]\u001b[0m \u001b[0;34m<\u001b[0m \u001b[0;36m0\u001b[0m\u001b[0;34m:\u001b[0m\u001b[0;34m\u001b[0m\u001b[0;34m\u001b[0m\u001b[0m\n\u001b[0m\u001b[1;32m     12\u001b[0m       \u001b[0mleft_max\u001b[0m\u001b[0;34m[\u001b[0m\u001b[0mi\u001b[0m\u001b[0;34m]\u001b[0m \u001b[0;34m=\u001b[0m \u001b[0mleft_max\u001b[0m\u001b[0;34m[\u001b[0m\u001b[0mi\u001b[0m\u001b[0;34m]\u001b[0m \u001b[0;34m*\u001b[0m\u001b[0;34m(\u001b[0m\u001b[0;34m-\u001b[0m\u001b[0;36m1\u001b[0m\u001b[0;34m)\u001b[0m\u001b[0;34m\u001b[0m\u001b[0;34m\u001b[0m\u001b[0m\n\u001b[1;32m     13\u001b[0m       \u001b[0mi\u001b[0m\u001b[0;34m+=\u001b[0m\u001b[0;36m1\u001b[0m\u001b[0;34m\u001b[0m\u001b[0;34m\u001b[0m\u001b[0m\n",
            "\u001b[0;31mIndexError\u001b[0m: list index out of range"
          ]
        }
      ]
    },
    {
      "cell_type": "code",
      "source": [
        "def crossmax(arr,mid):\n",
        "  mid = len(arr) // 2\n",
        "  i = mid - 1\n",
        "  j = mid\n",
        "  max_i = float(\"-inf\")\n",
        "  max_j = float(\"-inf\")\n",
        "  while i>=0:\n",
        "    max_i = max(max_i,arr[i])\n",
        "    i-=1\n",
        "  while j<len(arr):\n",
        "    max_j=max(max_j,abs(arr[j]))\n",
        "    j+=1\n",
        "  return max_i+max_j**2\n",
        "\n",
        "def find_max(arr,n):\n",
        "  if len(arr) == 1:\n",
        "    return float(\"-inf\")\n",
        "  elif len(arr) == 2:\n",
        "    return arr[0] + (arr[1])**2\n",
        "  mid = len(arr) // 2\n",
        "  left_max = find_max(arr[:mid],mid)\n",
        "  right_max = find_max(arr[mid:],len(arr)- mid)\n",
        "  cm = crossmax(arr,mid)\n",
        "  return max(left_max,right_max,cm)\n",
        "n = int(input())\n",
        "arr = list(map(int,input().split()))\n",
        "print(find_max(arr,len(arr)))"
      ],
      "metadata": {
        "id": "CpU0Q3UsLNpa",
        "colab": {
          "base_uri": "https://localhost:8080/"
        },
        "outputId": "9690891c-7aa0-4027-f005-81841db531a7"
      },
      "execution_count": null,
      "outputs": [
        {
          "output_type": "stream",
          "name": "stdout",
          "text": [
            "41\n"
          ]
        }
      ]
    },
    {
      "cell_type": "code",
      "source": [],
      "metadata": {
        "id": "TJKoj5qYqyzm"
      },
      "execution_count": null,
      "outputs": []
    },
    {
      "cell_type": "code",
      "source": [
        "print(100**3%107)"
      ],
      "metadata": {
        "colab": {
          "base_uri": "https://localhost:8080/"
        },
        "id": "vw0n6oVY-VHD",
        "outputId": "82f7e3e7-e8c1-4940-bfad-02386fcc4196"
      },
      "execution_count": null,
      "outputs": [
        {
          "output_type": "stream",
          "name": "stdout",
          "text": [
            "85\n"
          ]
        }
      ]
    },
    {
      "cell_type": "code",
      "source": [
        "# Task - F\n",
        "def TreeNode(self,elem):\n",
        "  def __init__(self,elem):\n",
        "    self.elem = elem\n",
        "    self.left = None\n",
        "    self.right = None\n",
        "def tree(preorder,inorder):\n",
        "  if root != preorder or root!=inorder:\n",
        "    return\n",
        "  root_elem = preorder.pop()\n",
        "  root = TreeNode(root_elem)\n",
        "  inorder_idx = inorder.index(root_elem)\n",
        "  root.left = tree(preorder, inorder[:inorder_idx])\n",
        "  root.right = tree(preorder, inorder[inorder_idx + 1:])\n",
        "  return root\n",
        "def print_tree(root, level=0, prefix=\"Root: \"):\n",
        "    if root is not None:\n",
        "        print(\" \" * (level * 4) + prefix + str(root.val))\n",
        "        print_tree(root.left, level + 1)\n",
        "        print_tree(root.right, level + 1)\n",
        "preorder = [3, 9, 20, 15, 7]\n",
        "inorder = [9, 3, 15, 20, 7]\n",
        "\n",
        "root = tree(preorder, inorder)\n",
        "print_tree(root)"
      ],
      "metadata": {
        "id": "4QWfsf3uGJHP",
        "colab": {
          "base_uri": "https://localhost:8080/",
          "height": 332
        },
        "outputId": "539228ec-0b07-4206-cd22-55fa1965b2f8"
      },
      "execution_count": null,
      "outputs": [
        {
          "output_type": "error",
          "ename": "UnboundLocalError",
          "evalue": "cannot access local variable 'root' where it is not associated with a value",
          "traceback": [
            "\u001b[0;31m---------------------------------------------------------------------------\u001b[0m",
            "\u001b[0;31mUnboundLocalError\u001b[0m                         Traceback (most recent call last)",
            "\u001b[0;32m<ipython-input-13-4dbf49f32c95>\u001b[0m in \u001b[0;36m<cell line: 0>\u001b[0;34m()\u001b[0m\n\u001b[1;32m     22\u001b[0m \u001b[0minorder\u001b[0m \u001b[0;34m=\u001b[0m \u001b[0;34m[\u001b[0m\u001b[0;36m9\u001b[0m\u001b[0;34m,\u001b[0m \u001b[0;36m3\u001b[0m\u001b[0;34m,\u001b[0m \u001b[0;36m15\u001b[0m\u001b[0;34m,\u001b[0m \u001b[0;36m20\u001b[0m\u001b[0;34m,\u001b[0m \u001b[0;36m7\u001b[0m\u001b[0;34m]\u001b[0m\u001b[0;34m\u001b[0m\u001b[0;34m\u001b[0m\u001b[0m\n\u001b[1;32m     23\u001b[0m \u001b[0;34m\u001b[0m\u001b[0m\n\u001b[0;32m---> 24\u001b[0;31m \u001b[0mroot\u001b[0m \u001b[0;34m=\u001b[0m \u001b[0mtree\u001b[0m\u001b[0;34m(\u001b[0m\u001b[0mpreorder\u001b[0m\u001b[0;34m,\u001b[0m \u001b[0minorder\u001b[0m\u001b[0;34m)\u001b[0m\u001b[0;34m\u001b[0m\u001b[0;34m\u001b[0m\u001b[0m\n\u001b[0m\u001b[1;32m     25\u001b[0m \u001b[0mprint_tree\u001b[0m\u001b[0;34m(\u001b[0m\u001b[0mroot\u001b[0m\u001b[0;34m)\u001b[0m\u001b[0;34m\u001b[0m\u001b[0;34m\u001b[0m\u001b[0m\n",
            "\u001b[0;32m<ipython-input-13-4dbf49f32c95>\u001b[0m in \u001b[0;36mtree\u001b[0;34m(preorder, inorder)\u001b[0m\n\u001b[1;32m      6\u001b[0m     \u001b[0mself\u001b[0m\u001b[0;34m.\u001b[0m\u001b[0mright\u001b[0m \u001b[0;34m=\u001b[0m \u001b[0;32mNone\u001b[0m\u001b[0;34m\u001b[0m\u001b[0;34m\u001b[0m\u001b[0m\n\u001b[1;32m      7\u001b[0m \u001b[0;32mdef\u001b[0m \u001b[0mtree\u001b[0m\u001b[0;34m(\u001b[0m\u001b[0mpreorder\u001b[0m\u001b[0;34m,\u001b[0m\u001b[0minorder\u001b[0m\u001b[0;34m)\u001b[0m\u001b[0;34m:\u001b[0m\u001b[0;34m\u001b[0m\u001b[0;34m\u001b[0m\u001b[0m\n\u001b[0;32m----> 8\u001b[0;31m   \u001b[0;32mif\u001b[0m \u001b[0mroot\u001b[0m \u001b[0;34m!=\u001b[0m \u001b[0mpreorder\u001b[0m \u001b[0;32mor\u001b[0m \u001b[0mroot\u001b[0m\u001b[0;34m!=\u001b[0m\u001b[0minorder\u001b[0m\u001b[0;34m:\u001b[0m\u001b[0;34m\u001b[0m\u001b[0;34m\u001b[0m\u001b[0m\n\u001b[0m\u001b[1;32m      9\u001b[0m     \u001b[0;32mreturn\u001b[0m\u001b[0;34m\u001b[0m\u001b[0;34m\u001b[0m\u001b[0m\n\u001b[1;32m     10\u001b[0m   \u001b[0mroot_elem\u001b[0m \u001b[0;34m=\u001b[0m \u001b[0mpreorder\u001b[0m\u001b[0;34m.\u001b[0m\u001b[0mpop\u001b[0m\u001b[0;34m(\u001b[0m\u001b[0;34m)\u001b[0m\u001b[0;34m\u001b[0m\u001b[0;34m\u001b[0m\u001b[0m\n",
            "\u001b[0;31mUnboundLocalError\u001b[0m: cannot access local variable 'root' where it is not associated with a value"
          ]
        }
      ]
    },
    {
      "cell_type": "code",
      "source": [
        "# Task - F\n",
        "class BTNode:\n",
        "  def __init__(self, elem):\n",
        "    self.elem = elem\n",
        "    self.right = None\n",
        "    self.left = None\n",
        "def inorder(root):\n",
        "  if root == None:\n",
        "    return\n",
        "  inorder(root.left)\n",
        "  print(root.elem)\n",
        "  inorder(root.right)\n",
        "\n",
        "root = BTNode(1)\n",
        "n1 = BTNode(2)\n",
        "n2 = BTNode(3)\n",
        "n3 = BTNode(4)\n",
        "n4 = BTNode(5)\n",
        "\n",
        "root.left = n1\n",
        "root.right = n2\n",
        "\n",
        "n1.left = n3\n",
        "n1.right = n4\n"
      ],
      "metadata": {
        "id": "kgnmSEgeRUcj"
      },
      "execution_count": null,
      "outputs": []
    },
    {
      "cell_type": "code",
      "source": [
        "def preorder(root):\n",
        "  if root == None:\n",
        "    return\n",
        "  print(root.elem)\n",
        "  preorder(root.left)\n",
        "  preorder(root.right)\n",
        "\n",
        "def inorder(root):\n",
        "  if root == None:\n",
        "    return\n",
        "  inorder(root.left)\n",
        "  print(root.elem)\n",
        "  inorder(root.right)\n",
        "\n",
        "def postorder(root):\n",
        "  if root == None:\n",
        "    return\n",
        "  postorder(root.left)\n",
        "  postorder(root.right)\n",
        "  print(root.elem)\n",
        "\n",
        "def tree_construction(arr, i = 1):\n",
        "\n",
        "  if i>=len(arr) or arr[i] == None:\n",
        "    return None\n",
        "  p = BTNode(arr[i])\n",
        "  p.left = tree_construction(arr, 2*i)\n",
        "  p.right = tree_construction(arr, 2*i+1)\n",
        "  return p\n",
        "\n",
        "root2 = tree_construction([None,1,2,3,4,5,None,None])\n",
        "#postorder(root2)\n",
        "postorder(root2)"
      ],
      "metadata": {
        "colab": {
          "base_uri": "https://localhost:8080/"
        },
        "id": "ovvuFsUYUAAN",
        "outputId": "ad4b8cf7-b82a-4acc-89f1-6383f27ebfee"
      },
      "execution_count": null,
      "outputs": [
        {
          "output_type": "stream",
          "name": "stdout",
          "text": [
            "4\n",
            "5\n",
            "2\n",
            "3\n",
            "1\n"
          ]
        }
      ]
    },
    {
      "cell_type": "code",
      "source": [
        "def fast_mod(a, b):\n",
        "    if b == 0:\n",
        "        return 1\n",
        "    ans = fast_mod(a, b // 2)\n",
        "    ans = (ans * ans) % 107\n",
        "\n",
        "    if b % 2 == 1:\n",
        "        ans = (ans * a) % 107\n",
        "\n",
        "    return ans\n",
        "a,b= list(map(int,input().split()))\n",
        "print(fast_mod(a, b))"
      ],
      "metadata": {
        "colab": {
          "base_uri": "https://localhost:8080/"
        },
        "id": "ZW98XJQyzQQq",
        "outputId": "eb769163-6049-44aa-b0db-b2b1502d2e31"
      },
      "execution_count": null,
      "outputs": [
        {
          "output_type": "stream",
          "name": "stdout",
          "text": [
            "100 3\n",
            "85\n"
          ]
        }
      ]
    },
    {
      "cell_type": "code",
      "source": [
        "def mod_drift(a, b):\n",
        "    result = 0\n",
        "    a = a % 107\n",
        "    while b > 0:\n",
        "        if b % 2 == 1:\n",
        "            result = (result * a) % 107\n",
        "        else:\n",
        "          a = (a * a) % 107\n",
        "          b //= 2\n",
        "    return result\n",
        "a, b = map(int, input().split())\n",
        "print(mod_drift(a, b))"
      ],
      "metadata": {
        "colab": {
          "base_uri": "https://localhost:8080/"
        },
        "id": "jR1T8b7gkIHr",
        "outputId": "89089b5b-ee2c-42ad-f899-3136cd3d2aac"
      },
      "execution_count": null,
      "outputs": [
        {
          "output_type": "stream",
          "name": "stdout",
          "text": [
            "Enter two integers a and b: 100 3\n",
            "Result: 85\n"
          ]
        }
      ]
    },
    {
      "cell_type": "code",
      "source": [
        "class TreeNode:\n",
        "    def __init__(self, elem):\n",
        "        self.elem = elem\n",
        "        self.left = None\n",
        "        self.right = None\n",
        "\n",
        "def build_tree(preorder, inorder):\n",
        "    if not preorder or not inorder:\n",
        "        return None\n",
        "\n",
        "    root_elem = preorder.pop(0)\n",
        "    root = TreeNode(root_elem)\n",
        "    inorder_idx = inorder.index(root_elem)\n",
        "\n",
        "    root.left = build_tree(preorder, inorder[:inorder_idx])\n",
        "    root.right = build_tree(preorder, inorder[inorder_idx + 1:])\n",
        "\n",
        "    return root\n",
        "\n",
        "def post_order_traversal(root):\n",
        "    if root is None:\n",
        "        return []\n",
        "    return post_order_traversal(root.left) + post_order_traversal(root.right) + [root.elem]\n",
        "\n",
        "N = int(input())\n",
        "inorder = list(map(int, input().split()))\n",
        "preorder = list(map(int, input().split()))\n",
        "\n",
        "root = build_tree(preorder, inorder)\n",
        "post_order = post_order_traversal(root)\n",
        "\n",
        "print(\" \".join(map(str, post_order)))"
      ],
      "metadata": {
        "id": "Uk1u1kTpkvwl"
      },
      "execution_count": null,
      "outputs": []
    },
    {
      "cell_type": "code",
      "source": [
        "def Tree(arr,left,right,result):\n",
        "  if left > right:\n",
        "    return\n",
        "  mid = (left+right) // 2\n",
        "  result.append(arr[mid])\n",
        "  Tree(arr,left,mid-1,result)\n",
        "  Tree(arr,mid+1,right,result)\n",
        "  return result\n",
        "n = int(input())\n",
        "arr = list(map(int,input().split()))\n",
        "a = Tree(arr,0,len(arr) - 1,[])\n",
        "b = \"\"\n",
        "for i in a:\n",
        "  b = b + str(i)+ \" \"\n",
        "print(b)"
      ],
      "metadata": {
        "colab": {
          "base_uri": "https://localhost:8080/"
        },
        "id": "-_zYgKb7h9v9",
        "outputId": "c0b52527-b8fd-4c17-f160-07db499711d5"
      },
      "execution_count": null,
      "outputs": [
        {
          "output_type": "stream",
          "name": "stdout",
          "text": [
            "5\n",
            "1 2 3 4 5\n",
            "3 1 2 4 5 \n"
          ]
        }
      ]
    }
  ]
}