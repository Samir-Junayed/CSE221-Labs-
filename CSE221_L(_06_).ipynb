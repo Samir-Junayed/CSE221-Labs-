{
  "nbformat": 4,
  "nbformat_minor": 0,
  "metadata": {
    "colab": {
      "provenance": []
    },
    "kernelspec": {
      "name": "python3",
      "display_name": "Python 3"
    },
    "language_info": {
      "name": "python"
    }
  },
  "cells": [
    {
      "cell_type": "code",
      "source": [
        "# Task - A\n",
        "import sys\n",
        "sys.setrecursionlimit(10**6)\n",
        "\n",
        "n, m = map(int, input().split())\n",
        "\n",
        "adj = [[] for i in range(n + 1)]\n",
        "for _ in range(m):\n",
        "    u, v = map(int, input().split())\n",
        "    adj[u].append(v)\n",
        "\n",
        "for i in range(1, n + 1):\n",
        "    adj[i].sort()\n",
        "\n",
        "colour = [0] * (n + 1)\n",
        "ans = []\n",
        "cycle = 0\n",
        "\n",
        "def DFS(G, u):\n",
        "    global cycle\n",
        "    colour[u] = 1\n",
        "\n",
        "    for v in G[u]:\n",
        "        if colour[v] == 0:\n",
        "            DFS(G, v)\n",
        "            if cycle == 1:\n",
        "                return\n",
        "        elif colour[v] == 1:\n",
        "            cycle = 1\n",
        "            return\n",
        "\n",
        "    colour[u] = 2\n",
        "    ans.append(u)\n",
        "\n",
        "for i in range(1, n + 1):\n",
        "    if colour[i] == 0:\n",
        "        DFS(adj, i)\n",
        "        if cycle == 1:\n",
        "            break\n",
        "\n",
        "if cycle:\n",
        "    print(-1)\n",
        "else:\n",
        "    print(*ans[::-1])"
      ],
      "metadata": {
        "colab": {
          "base_uri": "https://localhost:8080/"
        },
        "id": "3qLKaCEQj4mN",
        "outputId": "619fdd02-aa39-4b2f-c885-676373d531d1"
      },
      "execution_count": null,
      "outputs": [
        {
          "output_type": "stream",
          "name": "stdout",
          "text": [
            "5 4\n",
            "2 4\n",
            "2 5\n",
            "4 3\n",
            "1 5\n",
            "2 4 3 1 5\n"
          ]
        }
      ]
    },
    {
      "cell_type": "code",
      "source": [
        "# Task - B\n",
        "n, m = map(int, input().split())\n",
        "adj = [[] for i in range(n + 1)]\n",
        "for i in range(m):\n",
        "    u, v = map(int, input().split())\n",
        "    adj[u].append(v)\n",
        "    adj[v].append(u)\n",
        "for j in range(1, n + 1):\n",
        "    adj[j].sort()\n",
        "\n",
        "color = [-1] * (n + 1)\n",
        "\n",
        "def BFS(start):\n",
        "    queue = [start]\n",
        "    color[start] = 0\n",
        "    head = 0\n",
        "    count0 = 0\n",
        "    count1 = 0\n",
        "    is_bipartite = True\n",
        "    while head < len(queue):\n",
        "        u = queue[head]\n",
        "        head += 1\n",
        "        if color[u] == 0:\n",
        "            count0 += 1\n",
        "        else:\n",
        "            count1 += 1\n",
        "        for v in adj[u]:\n",
        "            if color[v] == -1:\n",
        "                color[v] = 1 - color[u]\n",
        "                queue.append(v)\n",
        "            elif color[v] == color[u]:\n",
        "                is_bipartite = False\n",
        "    return max(count0, count1)\n",
        "\n",
        "total = 0\n",
        "for i in range(1, n + 1):\n",
        "    if color[i] == -1:\n",
        "        total += BFS(i)\n",
        "\n",
        "print(total)"
      ],
      "metadata": {
        "colab": {
          "base_uri": "https://localhost:8080/"
        },
        "id": "tZ9BV3hVx8TI",
        "outputId": "97aa045c-62c6-4502-907e-e48b71faa1e7"
      },
      "execution_count": null,
      "outputs": [
        {
          "output_type": "stream",
          "name": "stdout",
          "text": [
            "5 4\n",
            "4 3\n",
            "1 3\n",
            "3 2\n",
            "3 5\n",
            "4\n"
          ]
        }
      ]
    },
    {
      "cell_type": "code",
      "source": [
        "# Task - C\n",
        "n = int(input())\n",
        "a, b, c, d = map(int, input().split())\n",
        "\n",
        "if a == c and b == d:\n",
        "    print(0)\n",
        "else:\n",
        "    from collections import deque\n",
        "\n",
        "    moves = [(-2, -1), (-2, 1), (-1, -2), (-1, 2),\n",
        "             (1, -2), (1, 2), (2, -1), (2, 1)]\n",
        "\n",
        "    def knight():\n",
        "        queue1 = deque()\n",
        "        queue1.append((a, b))\n",
        "\n",
        "        visited_start = [[-1] * (n + 1) for _ in range(n + 1)]\n",
        "        visited_start[a][b] = 0\n",
        "\n",
        "        while queue1:\n",
        "            x, y = queue1.popleft()\n",
        "            for dx, dy in moves:\n",
        "                nx, ny = x + dx, y + dy\n",
        "                if 1 <= nx <= n and 1 <= ny <= n:\n",
        "                    if visited_start[nx][ny] == -1:\n",
        "                        visited_start[nx][ny] = visited_start[x][y] + 1\n",
        "                        if (nx, ny) == (c, d):\n",
        "                            return visited_start[nx][ny]\n",
        "                        queue1.append((nx, ny))\n",
        "        return -1\n",
        "\n",
        "    print(knight())\n"
      ],
      "metadata": {
        "colab": {
          "base_uri": "https://localhost:8080/"
        },
        "id": "7d_SjzsK1eTc",
        "outputId": "80ae3ae9-223a-4a4c-f71c-96a7a5d5154e"
      },
      "execution_count": null,
      "outputs": [
        {
          "output_type": "stream",
          "name": "stdout",
          "text": [
            "3\n",
            "1 2 1 3\n",
            "3\n"
          ]
        }
      ]
    },
    {
      "cell_type": "code",
      "source": [
        "# Task - D\n",
        "import sys\n",
        "sys.setrecursionlimit(10**6)\n",
        "\n",
        "n, m = map(int, input().split())\n",
        "\n",
        "from collections import defaultdict\n",
        "a = defaultdict(list)\n",
        "\n",
        "for i in range(n - 1):\n",
        "    u, v = map(int, input().split())\n",
        "    a[u].append(v)\n",
        "    a[v].append(u)\n",
        "\n",
        "tree = [0] * (n + 1)\n",
        "\n",
        "def dfs(node, parent):\n",
        "    tree[node] = 1\n",
        "    for neighbor in a[node]:\n",
        "        if neighbor != parent:\n",
        "            dfs(neighbor, node)\n",
        "            tree[node] += tree[neighbor]\n",
        "\n",
        "dfs(m, -1)\n",
        "\n",
        "b = int(input())\n",
        "ans = []\n",
        "for i in range(b):\n",
        "    X = int(input())\n",
        "    ans.append(tree[X])\n",
        "for j in ans:\n",
        "  print(j)"
      ],
      "metadata": {
        "colab": {
          "base_uri": "https://localhost:8080/"
        },
        "id": "OTKjjGllrFjQ",
        "outputId": "66646ce7-4ad8-4a92-8488-a713399cc205"
      },
      "execution_count": null,
      "outputs": [
        {
          "output_type": "stream",
          "name": "stdout",
          "text": [
            "4 1\n",
            "3 1\n",
            "1 2\n",
            "4 2\n",
            "3\n",
            "1\n",
            "4\n",
            "2\n",
            "4\n",
            "1\n",
            "2\n"
          ]
        }
      ]
    },
    {
      "cell_type": "code",
      "source": [
        "# Task - E\n",
        "import sys\n",
        "sys.setrecursionlimit(10**6)\n",
        "\n",
        "n = int(input())\n",
        "\n",
        "adj = [[] for _ in range(n + 1)]\n",
        "for _ in range(n - 1):\n",
        "    u, v = map(int, input().split())\n",
        "    adj[u].append(v)\n",
        "    adj[v].append(u)\n",
        "\n",
        "for j in range(1, n + 1):\n",
        "    adj[j].sort()\n",
        "\n",
        "colour = [0] * (n + 1)\n",
        "ans = []\n",
        "dist = [0] * (n + 1)\n",
        "\n",
        "def DFS(G, u):\n",
        "    colour[u] = 1\n",
        "    for v in G[u]:\n",
        "        if colour[v] == 0:\n",
        "            dist[v] = dist[u] + 1\n",
        "            DFS(G, v)\n",
        "    ans.append(u)\n",
        "\n",
        "if n == 1:\n",
        "    print(0)\n",
        "    print(1, 1)\n",
        "else:\n",
        "    DFS(adj, 1)\n",
        "    farthest_node = 1\n",
        "    for i in range(1, n + 1):\n",
        "        if dist[i] > dist[farthest_node]:\n",
        "            farthest_node = i\n",
        "\n",
        "    colour = [0] * (n + 1)\n",
        "    ans = []\n",
        "    dist = [0] * (n + 1)\n",
        "\n",
        "    DFS(adj, farthest_node)\n",
        "    other_end = farthest_node\n",
        "    for i in range(1, n + 1):\n",
        "        if dist[i] > dist[other_end]:\n",
        "            other_end = i\n",
        "\n",
        "    print(dist[other_end])\n",
        "    print(farthest_node, other_end)"
      ],
      "metadata": {
        "colab": {
          "base_uri": "https://localhost:8080/"
        },
        "id": "RTdkbX0xosAF",
        "outputId": "ebf94c2c-7f8a-4b90-8559-efcc9ebd087f"
      },
      "execution_count": null,
      "outputs": [
        {
          "output_type": "stream",
          "name": "stdout",
          "text": [
            "8\n",
            "1 7\n",
            "7 3\n",
            "3 6\n",
            "6 5\n",
            "5 2\n",
            "2 8\n",
            "8 4\n",
            "7\n",
            "4 1\n"
          ]
        }
      ]
    },
    {
      "cell_type": "code",
      "source": [
        "n = int(input())\n",
        "a, b, c, d = map(int, input().split())\n",
        "\n",
        "if a == c and b == d:\n",
        "    print(0)\n",
        "else:\n",
        "    from collections import deque\n",
        "\n",
        "    moves = [(-2, -1), (-2, 1), (-1, -2), (-1, 2),\n",
        "             (1, -2), (1, 2), (2, -1), (2, 1)]\n",
        "\n",
        "    def knight():\n",
        "        queue1 = deque()\n",
        "        queue1.append((a, b))\n",
        "\n",
        "        visited_start = [[-1] * (n + 1) for _ in range(n + 1)]\n",
        "        visited_start[a][b] = 0\n",
        "\n",
        "        while queue1:\n",
        "            x, y = queue1.popleft()\n",
        "            for dx, dy in moves:\n",
        "                nx, ny = x + dx, y + dy\n",
        "                if 1 <= nx <= n and 1 <= ny <= n:\n",
        "                    if visited_start[nx][ny] == -1:\n",
        "                        visited_start[nx][ny] = visited_start[x][y] + 1\n",
        "                        if (nx, ny) == (c, d):\n",
        "                            return visited_start[nx][ny]\n",
        "                        queue1.append((nx, ny))\n",
        "        return -1\n",
        "\n",
        "    print(knight())"
      ],
      "metadata": {
        "id": "f8TtsSy_Krry"
      },
      "execution_count": null,
      "outputs": []
    },
    {
      "cell_type": "code",
      "source": [
        "#Task -F\n",
        "n = int(input())\n",
        "ans = []\n",
        "for i in range(n):\n",
        "  a = str(input())\n",
        "  ans.append(a[0])\n",
        "print(*ans)\n"
      ],
      "metadata": {
        "colab": {
          "base_uri": "https://localhost:8080/"
        },
        "id": "ngEHt9IxkBMg",
        "outputId": "e7ad8e71-5819-47aa-eaa7-d70372d68e81"
      },
      "execution_count": null,
      "outputs": [
        {
          "output_type": "stream",
          "name": "stdout",
          "text": [
            "3\n",
            "eat\n",
            "tea\n",
            "ate\n",
            "e t a\n"
          ]
        }
      ]
    },
    {
      "cell_type": "code",
      "source": [
        "# Task - F\n",
        "import heapq\n",
        "\n",
        "n = int(input())\n",
        "words = [input().strip() for _ in range(n)]\n",
        "\n",
        "adj = [[] for _ in range(26)]\n",
        "indegree = [0] * 26\n",
        "present = [False] * 26\n",
        "\n",
        "for word in words:\n",
        "    for ch in word:\n",
        "        present[ord(ch) - ord('a')] = True\n",
        "\n",
        "valid = True\n",
        "for i in range(n - 1):\n",
        "    w1 = words[i]\n",
        "    w2 = words[i + 1]\n",
        "    min_len = min(len(w1), len(w2))\n",
        "    found = False\n",
        "    for j in range(min_len):\n",
        "        if w1[j] != w2[j]:\n",
        "            u = ord(w1[j]) - ord('a')\n",
        "            v = ord(w2[j]) - ord('a')\n",
        "            adj[u].append(v)\n",
        "            indegree[v] += 1\n",
        "            found = True\n",
        "            break\n",
        "    if not found and len(w1) > len(w2):\n",
        "        valid = False\n",
        "        break\n",
        "\n",
        "if not valid:\n",
        "    print(-1)\n",
        "else:\n",
        "    heap = []\n",
        "    for i in range(26):\n",
        "        if present[i] and indegree[i] == 0:\n",
        "            heapq.heappush(heap, i)\n",
        "\n",
        "    order = []\n",
        "    while heap:\n",
        "        u = heapq.heappop(heap)\n",
        "        order.append(chr(u + ord('a')))\n",
        "        for v in adj[u]:\n",
        "            indegree[v] -= 1\n",
        "            if indegree[v] == 0:\n",
        "                heapq.heappush(heap, v)\n",
        "\n",
        "    if len(order) != sum(present):\n",
        "        print(-1)\n",
        "    else:\n",
        "        print(''.join(order))"
      ],
      "metadata": {
        "colab": {
          "base_uri": "https://localhost:8080/"
        },
        "id": "R0FPzK87BP6N",
        "outputId": "e2c7707b-c926-4b70-efe1-2881859e9b14"
      },
      "execution_count": null,
      "outputs": [
        {
          "output_type": "stream",
          "name": "stdout",
          "text": [
            "9\n",
            "error\n",
            "tooth\n",
            "tot\n",
            "teeth\n",
            "their\n",
            "there\n",
            "thi\n",
            "tie\n",
            "hit\n",
            "oethir\n"
          ]
        }
      ]
    }
  ]
}