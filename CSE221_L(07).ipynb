{
  "nbformat": 4,
  "nbformat_minor": 0,
  "metadata": {
    "colab": {
      "provenance": []
    },
    "kernelspec": {
      "name": "python3",
      "display_name": "Python 3"
    },
    "language_info": {
      "name": "python"
    }
  },
  "cells": [
    {
      "cell_type": "code",
      "source": [
        "# Task - A\n",
        "import heapq\n",
        "\n",
        "n, m, start, stop = map(int, input().split())\n",
        "\n",
        "u = list(map(int, input().split()))\n",
        "v = list(map(int, input().split()))\n",
        "w = list(map(int, input().split()))\n",
        "\n",
        "all_vertices = set(range(1, n + 1))\n",
        "\n",
        "if start not in all_vertices or stop not in all_vertices:\n",
        "    print(-1)\n",
        "\n",
        "else:\n",
        "    Graph = {\n",
        "        'Vertices': list(all_vertices),\n",
        "        'Edges': {}\n",
        "    }\n",
        "\n",
        "    for i in range(m):\n",
        "        if u[i] not in Graph['Edges']:\n",
        "            Graph['Edges'][u[i]] = []\n",
        "        Graph['Edges'][u[i]].append((v[i], w[i]))\n",
        "\n",
        "    for vtx in Graph['Vertices']:\n",
        "        if vtx not in Graph['Edges']:\n",
        "            Graph['Edges'][vtx] = []\n",
        "    print(Graph)\n",
        "    def Dijkstra(Graph, source):\n",
        "        dist = {v: float('inf') for v in Graph['Vertices']}\n",
        "        prev = {v: None for v in Graph['Vertices']}\n",
        "        dist[source] = 0\n",
        "\n",
        "        Q = [(0, source)]\n",
        "\n",
        "        while Q:\n",
        "            d_u, u = heapq.heappop(Q)\n",
        "            if d_u > dist[u]:\n",
        "                continue\n",
        "\n",
        "            for v, w_uv in Graph['Edges'][u]:\n",
        "                if dist[u] + w_uv < dist[v]:\n",
        "                    dist[v] = dist[u] + w_uv\n",
        "                    prev[v] = u\n",
        "                    heapq.heappush(Q, (dist[v], v))\n",
        "\n",
        "        return dist, prev\n",
        "\n",
        "    dist, prev = Dijkstra(Graph, start)\n",
        "\n",
        "    if dist[stop] == float('inf'):\n",
        "        print(-1)\n",
        "    else:\n",
        "        path = []\n",
        "        current = stop\n",
        "        while current is not None:\n",
        "            path.append(current)\n",
        "            current = prev[current]\n",
        "        path.reverse()\n",
        "\n",
        "        print(dist[stop])\n",
        "        print(*path)\n"
      ],
      "metadata": {
        "id": "ODphVqZIhNa-",
        "colab": {
          "base_uri": "https://localhost:8080/"
        },
        "outputId": "d3df1e4f-fb6f-4a6f-afd9-561ddae184ef"
      },
      "execution_count": null,
      "outputs": [
        {
          "output_type": "stream",
          "name": "stdout",
          "text": [
            "5 7 2 4\n",
            "1 1 5 4 2 3 2\n",
            "5 4 3 5 5 4 3\n",
            "3 8 2 6 6 4 3\n",
            "{'Vertices': [1, 2, 3, 4, 5], 'Edges': {1: [(5, 3), (4, 8)], 5: [(3, 2)], 4: [(5, 6)], 2: [(5, 6), (3, 3)], 3: [(4, 4)]}}\n",
            "7\n",
            "2 3 4\n"
          ]
        }
      ]
    },
    {
      "cell_type": "code",
      "source": [
        "# Task - B\n",
        "import heapq\n",
        "\n",
        "n, m, s, t = map(int, input().split())\n",
        "\n",
        "Graph = [[] for _ in range(n + 1)]\n",
        "for _ in range(m):\n",
        "    u, v, w = map(int, input().split())\n",
        "    Graph[u].append((v, w))\n",
        "\n",
        "INF = float('inf')\n",
        "# print(Graph)\n",
        "def dijkstra(Graph, source, n):\n",
        "    dist = [INF] * (n + 1)\n",
        "    prev = [None] * (n + 1)\n",
        "    dist[source] = 0\n",
        "\n",
        "    Q = [(0, source)]\n",
        "\n",
        "    while Q:\n",
        "        d_u, u = heapq.heappop(Q)\n",
        "        if d_u > dist[u]:\n",
        "            continue\n",
        "\n",
        "        for v, w_uv in Graph[u]:\n",
        "            if dist[u] + w_uv < dist[v]:\n",
        "                dist[v] = dist[u] + w_uv\n",
        "                prev[v] = u\n",
        "                heapq.heappush(Q, (dist[v], v))\n",
        "\n",
        "    return dist, prev\n",
        "\n",
        "dist_s, _ = dijkstra(Graph, s, n)\n",
        "dist_t, _ = dijkstra(Graph, t, n)\n",
        "\n",
        "\n",
        "min_time = INF\n",
        "meeting_node = -1\n",
        "for i in range(1, n + 1):\n",
        "    if dist_s[i] < INF and dist_t[i] < INF:\n",
        "        time = max(dist_s[i], dist_t[i])\n",
        "        if time < min_time or (time == min_time and i < meeting_node):\n",
        "            min_time = time\n",
        "            meeting_node = i\n",
        "\n",
        "\n",
        "if meeting_node == -1:\n",
        "    print(-1)\n",
        "else:\n",
        "    print(min_time, meeting_node)\n"
      ],
      "metadata": {
        "colab": {
          "base_uri": "https://localhost:8080/"
        },
        "id": "9sgcozevkAEn",
        "outputId": "d8bb660f-0171-4919-c06c-ccdc45b1d591"
      },
      "execution_count": null,
      "outputs": [
        {
          "output_type": "stream",
          "name": "stdout",
          "text": [
            "5 5 1 5\n",
            "1 2 1\n",
            "2 3 1\n",
            "5 3 2\n",
            "1 4 2\n",
            "5 4 2\n",
            "[[], [(2, 1), (4, 2)], [(3, 1)], [], [], [(3, 2), (4, 2)]]\n",
            "2 3\n"
          ]
        }
      ]
    },
    {
      "cell_type": "code",
      "source": [
        "# Task - C\n",
        "import heapq\n",
        "\n",
        "n, m = map(int, input().split())\n",
        "\n",
        "graph = [[] for _ in range(n + 1)]\n",
        "\n",
        "for i in range(m):\n",
        "    u, v, w = map(int, input().split())\n",
        "    graph[u].append((v, w))\n",
        "    graph[v].append((u, w))\n",
        "\n",
        "INF = float('inf')\n",
        "\n",
        "def dijkstra(n, graph):\n",
        "    danger = [INF] * (n + 1)\n",
        "    visited = [False] * (n + 1)\n",
        "    danger[1] = 0\n",
        "\n",
        "    pq = [(0, 1)]\n",
        "\n",
        "    while pq:\n",
        "        d_u, u = heapq.heappop(pq)\n",
        "        if visited[u]:\n",
        "            continue\n",
        "        visited[u] = True\n",
        "\n",
        "        for v, w in graph[u]:\n",
        "            new_danger = max(d_u, w)\n",
        "            if new_danger < danger[v]:\n",
        "                danger[v] = new_danger\n",
        "                heapq.heappush(pq, (danger[v], v))\n",
        "\n",
        "    return danger\n",
        "\n",
        "danger = dijkstra(n, graph)\n",
        "result = []\n",
        "\n",
        "for i in range(1, n + 1):\n",
        "    if danger[i] != INF:\n",
        "        result.append(str(danger[i]))\n",
        "    else:\n",
        "        result.append(\"-1\")\n",
        "\n",
        "print(*result)"
      ],
      "metadata": {
        "colab": {
          "base_uri": "https://localhost:8080/"
        },
        "id": "dpDa77G7ll1_",
        "outputId": "5a79ae9b-233a-4ab7-dae9-59493ef7710a"
      },
      "execution_count": null,
      "outputs": [
        {
          "output_type": "stream",
          "name": "stdout",
          "text": [
            "4 3\n",
            "2 1 3\n",
            "2 3 5\n",
            "3 4 3\n",
            "0 3 5 5\n"
          ]
        }
      ]
    },
    {
      "cell_type": "code",
      "source": [
        "# Task - D\n",
        "n, m, start, stop = map(int, input().split())\n",
        "\n",
        "a = list(map(int, input().split()))\n",
        "for i in range(m):\n",
        "  u,v = map(int, input().split())"
      ],
      "metadata": {
        "id": "Kgvh_o44ob15"
      },
      "execution_count": null,
      "outputs": []
    },
    {
      "cell_type": "code",
      "source": [
        "# Task - D\n",
        "import heapq\n",
        "\n",
        "n, m, start, stop = map(int, input().split())\n",
        "\n",
        "a = list(map(int, input().split()))\n",
        "\n",
        "edges = []\n",
        "for i in range(m):\n",
        "    u, v = map(int, input().split())\n",
        "    edges.append((u, v))\n",
        "\n",
        "graph = {i: [] for i in range(1, n + 1)}\n",
        "for u, v in edges:\n",
        "    graph[u].append(v)\n",
        "\n",
        "def Dijkstra(graph, a, source):\n",
        "    dist = {v: float('inf') for v in graph}\n",
        "    dist[source] = a[source - 1]\n",
        "\n",
        "    Q = [(dist[source], source)]\n",
        "\n",
        "    while Q:\n",
        "        d_u, u = heapq.heappop(Q)\n",
        "        if d_u > dist[u]:\n",
        "            continue\n",
        "\n",
        "        for v in graph[u]:\n",
        "            if dist[u] + a[v - 1] < dist[v]:\n",
        "                dist[v] = dist[u] + a[v - 1]\n",
        "                heapq.heappush(Q, (dist[v], v))\n",
        "\n",
        "    return dist\n",
        "\n",
        "dist = Dijkstra(graph, a, start)\n",
        "\n",
        "if dist[stop] == float('inf'):\n",
        "    print(-1)\n",
        "else:\n",
        "    print(dist[stop])"
      ],
      "metadata": {
        "colab": {
          "base_uri": "https://localhost:8080/"
        },
        "id": "Iz7uiI3Mp-4o",
        "outputId": "21ac6628-eb02-405d-bc90-ba74b0cad411"
      },
      "execution_count": null,
      "outputs": [
        {
          "output_type": "stream",
          "name": "stdout",
          "text": [
            "4 3 1 2\n",
            "3 4 5 4\n",
            "1 2\n",
            "3 2\n",
            "4 3\n",
            "{1: [2], 2: [], 3: [2], 4: [3]}\n",
            "7\n"
          ]
        }
      ]
    },
    {
      "cell_type": "code",
      "source": [
        "# Task - E\n",
        "import heapq\n",
        "\n",
        "n, m = map(int, input().split())\n",
        "\n",
        "u = list(map(int, input().split()))\n",
        "v = list(map(int, input().split()))\n",
        "w = list(map(int, input().split()))\n",
        "\n",
        "graph = [[] for i in range(n + 1)]\n",
        "for i in range(m):\n",
        "    graph[u[i]].append((v[i], w[i]))\n",
        "\n",
        "\n",
        "INF = float('inf')\n",
        "dist = [[INF] * 2 for i in range(n + 1)]\n",
        "dist[1][0] = 0\n",
        "\n",
        "pq = [(0, 1, 0)]\n",
        "\n",
        "while pq:\n",
        "    cost, node, parity = heapq.heappop(pq)\n",
        "\n",
        "    if dist[node][parity] < cost:\n",
        "        continue\n",
        "\n",
        "    for neighbor, weight in graph[node]:\n",
        "        new_parity = weight % 2\n",
        "        if new_parity != parity:\n",
        "            if dist[neighbor][new_parity] > cost + weight:\n",
        "                dist[neighbor][new_parity] = cost + weight\n",
        "                heapq.heappush(pq, (cost + weight, neighbor, new_parity))\n",
        "\n",
        "res = min(dist[n])\n",
        "if res != INF:\n",
        "  print(res)\n",
        "else:\n",
        "  print(-1)"
      ],
      "metadata": {
        "colab": {
          "base_uri": "https://localhost:8080/"
        },
        "id": "J_elCIVLtvF1",
        "outputId": "6573d1ac-6d6f-462e-d646-94ed5258b414"
      },
      "execution_count": null,
      "outputs": [
        {
          "output_type": "stream",
          "name": "stdout",
          "text": [
            "6 5\n",
            "1 4 1 6 4\n",
            "2 1 6 2 6\n",
            "3 3 4 3 4\n",
            "-1\n"
          ]
        }
      ]
    },
    {
      "cell_type": "code",
      "source": [
        "# Task - E\n",
        "import heapq\n",
        "\n",
        "n, m = map(int, input().split())\n",
        "\n",
        "u = list(map(int, input().split()))\n",
        "v = list(map(int, input().split()))\n",
        "w = list(map(int, input().split()))\n",
        "\n",
        "graph = [[] for i in range(n + 1)]\n",
        "for i in range(m):\n",
        "    graph[u[i]].append((v[i], w[i]))\n",
        "\n",
        "INF = float('inf')\n",
        "dist = [[INF] * 2 for i in range(n + 1)]\n",
        "pq = []\n",
        "\n",
        "\n",
        "for neighbor, weight in graph[1]:\n",
        "    parity = weight % 2\n",
        "    if dist[neighbor][parity] > weight:\n",
        "        dist[neighbor][parity] = weight\n",
        "        heapq.heappush(pq, (weight, neighbor, parity))\n",
        "\n",
        "while pq:\n",
        "    cost, node, parity = heapq.heappop(pq)\n",
        "\n",
        "    if dist[node][parity] < cost:\n",
        "        continue\n",
        "\n",
        "    for neighbor, weight in graph[node]:\n",
        "        new_parity = weight % 2\n",
        "        if new_parity != parity:\n",
        "            if dist[neighbor][new_parity] > cost + weight:\n",
        "                dist[neighbor][new_parity] = cost + weight\n",
        "                heapq.heappush(pq, (cost + weight, neighbor, new_parity))\n",
        "\n",
        "res = min(dist[n])\n",
        "if res != INF:\n",
        "  print(res)\n",
        "else:\n",
        "  print(-1)"
      ],
      "metadata": {
        "colab": {
          "base_uri": "https://localhost:8080/"
        },
        "id": "enuqweISBqk-",
        "outputId": "48d51370-4572-49ab-f948-cac05812f4b7"
      },
      "execution_count": null,
      "outputs": [
        {
          "output_type": "stream",
          "name": "stdout",
          "text": [
            "6 5\n",
            "1 4 1 6 4\n",
            "2 1 6 2 6\n",
            "3 3 4 3 4\n",
            "4\n"
          ]
        }
      ]
    },
    {
      "cell_type": "code",
      "source": [
        "# Task - F\n",
        "n , m , start, stop = map(int, input().split())\n",
        "for i in range(m):\n",
        "  u,v,w = map(int, input().split())"
      ],
      "metadata": {
        "id": "BAghohQNzcxi"
      },
      "execution_count": null,
      "outputs": []
    },
    {
      "cell_type": "code",
      "source": [
        "import heapq\n",
        "from collections import defaultdict\n",
        "\n",
        "n, m, start, stop = map(int, input().split())\n",
        "\n",
        "graph = defaultdict(list)\n",
        "for _ in range(m):\n",
        "    u, v, w = map(int, input().split())\n",
        "    graph[u].append((v, w))\n",
        "    graph[v].append((u, w))\n",
        "\n",
        "INF = float('inf')\n",
        "dist1 = [INF] * (n + 1)\n",
        "dist2 = [INF] * (n + 1)\n",
        "\n",
        "dist1[start] = 0\n",
        "pq = [(0, start)]\n",
        "\n",
        "while pq:\n",
        "    cost, u = heapq.heappop(pq)\n",
        "\n",
        "    for v, w in graph[u]:\n",
        "        new_cost = cost + w\n",
        "\n",
        "        if new_cost < dist1[v]:\n",
        "            dist2[v] = dist1[v]\n",
        "            dist1[v] = new_cost\n",
        "            heapq.heappush(pq, (new_cost, v))\n",
        "\n",
        "        elif dist1[v] < new_cost < dist2[v]:\n",
        "            dist2[v] = new_cost\n",
        "            heapq.heappush(pq, (new_cost, v))\n",
        "\n",
        "if dist2[stop] != INF:\n",
        "  print(dist2[stop])\n",
        "else:\n",
        "  print(-1)"
      ],
      "metadata": {
        "colab": {
          "base_uri": "https://localhost:8080/"
        },
        "id": "KW---x4A0IMt",
        "outputId": "825c89e4-9187-4f7f-ed57-de86875c600d"
      },
      "execution_count": null,
      "outputs": [
        {
          "output_type": "stream",
          "name": "stdout",
          "text": [
            "4 3 2 3\n",
            "2 1 3\n",
            "2 3 5\n",
            "3 4 3\n",
            "11\n"
          ]
        }
      ]
    },
    {
      "cell_type": "code",
      "source": [
        "import heapq\n",
        "\n",
        "n, m, start, stop = map(int, input().split())\n",
        "\n",
        "graph = {}\n",
        "for _ in range(m):\n",
        "    u, v, w = map(int, input().split())\n",
        "    if u not in graph:\n",
        "        graph[u] = []\n",
        "    if v not in graph:\n",
        "        graph[v] = []\n",
        "    graph[u].append((v, w))\n",
        "    graph[v].append((u, w))\n",
        "\n",
        "INF = float('inf')\n",
        "dist1 = [INF] * (n + 1)\n",
        "dist2 = [INF] * (n + 1)\n",
        "\n",
        "dist1[start] = 0\n",
        "pq = [(0, start)]\n",
        "\n",
        "while pq:\n",
        "    cost, u = heapq.heappop(pq)\n",
        "\n",
        "    if u not in graph:\n",
        "        continue\n",
        "\n",
        "    for v, w in graph[u]:\n",
        "        new_cost = cost + w\n",
        "\n",
        "        if new_cost < dist1[v]:\n",
        "            dist2[v] = dist1[v]\n",
        "            dist1[v] = new_cost\n",
        "            heapq.heappush(pq, (new_cost, v))\n",
        "\n",
        "        elif dist1[v] < new_cost < dist2[v]:\n",
        "            dist2[v] = new_cost\n",
        "            heapq.heappush(pq, (new_cost, v))\n",
        "\n",
        "if dist2[stop] != INF:\n",
        "    print(dist2[stop])\n",
        "else:\n",
        "    print(-1)"
      ],
      "metadata": {
        "id": "32sfp2CEKzVC"
      },
      "execution_count": null,
      "outputs": []
    }
  ]
}