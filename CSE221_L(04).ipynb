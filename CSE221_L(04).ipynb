{
  "nbformat": 4,
  "nbformat_minor": 0,
  "metadata": {
    "colab": {
      "provenance": []
    },
    "kernelspec": {
      "name": "python3",
      "display_name": "Python 3"
    },
    "language_info": {
      "name": "python"
    }
  },
  "cells": [
    {
      "cell_type": "code",
      "execution_count": null,
      "metadata": {
        "id": "rqYoTHaPEPxd"
      },
      "outputs": [],
      "source": [
        "#Task - A\n",
        "n,m= map(int,input().split())\n",
        "mat = [[0]*n for i in range(n)]\n",
        "for x in range(m):\n",
        "  u,v,w= map(int,input().split())\n",
        "  mat[u-1][v-1]=w\n",
        "for i in mat:\n",
        "  print(\" \".join(map(str,i)))"
      ]
    },
    {
      "cell_type": "code",
      "source": [
        "# Task - B\n",
        "n, m = map(int, input().split())\n",
        "u = list(map(int, input().split()))\n",
        "v = list(map(int, input().split()))\n",
        "w = list(map(int, input().split()))\n",
        "lst = {i: [] for i in range(1, n + 1)}\n",
        "for i in range(m):\n",
        "    lst[u[i]].append((v[i], w[i]))\n",
        "for j in range(1, n + 1):\n",
        "    e = \" \".join(f\"({d},{wt})\" for d, wt in lst[j])\n",
        "    print(f\"{j}: {e}\")"
      ],
      "metadata": {
        "id": "c5KxM8_XEfiO",
        "colab": {
          "base_uri": "https://localhost:8080/"
        },
        "outputId": "97d660fc-1704-4c49-9b08-b7c71423ec3f"
      },
      "execution_count": null,
      "outputs": [
        {
          "output_type": "stream",
          "name": "stdout",
          "text": [
            "4 5\n",
            "4 1 4 3 3\n",
            "3 2 2 2 1\n",
            "4 4 10 8 5\n",
            "{1: [(2, 4)], 2: [], 3: [(2, 8), (1, 5)], 4: [(3, 4), (2, 10)]}\n"
          ]
        }
      ]
    },
    {
      "cell_type": "code",
      "source": [
        "# Task - C\n",
        "n = int(input())\n",
        "mat = [[0]*n for i in range(n)]\n",
        "for i in range(n):\n",
        "  u= list(map(int,input().split()))\n",
        "  for k in range(1,len(u)):\n",
        "    mat[i][u[k]] = 1\n",
        "for j in mat:\n",
        "  print(\" \".join(map(str,j)))"
      ],
      "metadata": {
        "colab": {
          "base_uri": "https://localhost:8080/"
        },
        "id": "Vm6wNFv8b2Qe",
        "outputId": "0fc4f943-4a47-4a94-833e-cf5c044d1bf6"
      },
      "execution_count": null,
      "outputs": [
        {
          "output_type": "stream",
          "name": "stdout",
          "text": [
            "5\n",
            "2 1 2\n",
            "1 0\n",
            "1 4\n",
            "1 3\n",
            "1 0\n",
            "0 1 1 0 0\n",
            "1 0 0 0 0\n",
            "0 0 0 0 1\n",
            "0 0 0 1 0\n",
            "1 0 0 0 0\n"
          ]
        }
      ]
    },
    {
      "cell_type": "code",
      "source": [
        "# Task - D\n",
        "n, m = map(int, input().split())\n",
        "u = list(map(int, input().split()))\n",
        "v = list(map(int, input().split()))\n",
        "\n",
        "degree = [0] * n\n",
        "\n",
        "for i in range(m):\n",
        "    degree[u[i] - 1] += 1\n",
        "    degree[v[i] - 1] += 1\n",
        "\n",
        "odd = 0\n",
        "for j in degree:\n",
        "    if j % 2 != 0:\n",
        "        odd += 1\n",
        "\n",
        "if odd == 0 or odd == 2:\n",
        "    print(\"YES\")\n",
        "else:\n",
        "    print(\"NO\")"
      ],
      "metadata": {
        "colab": {
          "base_uri": "https://localhost:8080/"
        },
        "id": "2hWpWAFPK7B3",
        "outputId": "7464ed4b-6027-4715-f72e-2e1eceef902f"
      },
      "execution_count": null,
      "outputs": [
        {
          "output_type": "stream",
          "name": "stdout",
          "text": [
            "5 10\n",
            "5 5 5 2 2 2 3 3 4 2\n",
            "2 3 1 3 4 1 4 1 2 4\n",
            "YES\n"
          ]
        }
      ]
    },
    {
      "cell_type": "code",
      "source": [
        "# Task - E\n",
        "n, m = map(int, input().split())\n",
        "u = list(map(int, input().split()))\n",
        "v = list(map(int, input().split()))\n",
        "\n",
        "lst_out = [0] * n\n",
        "lst_in = [0] * n\n",
        "\n",
        "for i in range(m):\n",
        "    lst_out[u[i] - 1] += 1\n",
        "    lst_in[v[i] - 1] += 1\n",
        "\n",
        "diff = [0] * n\n",
        "for j in range(n):\n",
        "  diff[j] = lst_in[j] - lst_out[j]\n",
        "for k in diff:\n",
        "  print(k,end=\" \")"
      ],
      "metadata": {
        "colab": {
          "base_uri": "https://localhost:8080/"
        },
        "id": "0ZAmB2SFKdkK",
        "outputId": "33c97ea7-f2e7-4792-cf90-a98badab2f88"
      },
      "execution_count": null,
      "outputs": [
        {
          "output_type": "stream",
          "name": "stdout",
          "text": [
            "5 4\n",
            "5 3 3 2\n",
            "1 1 2 4\n",
            "2 0 -2 1 -1 "
          ]
        }
      ]
    },
    {
      "cell_type": "code",
      "source": [
        "# Task - E\n",
        "x, y = map(int, input().split())\n",
        "lst_out = [0] * x\n",
        "lst_in = [0] * x\n",
        "\n",
        "for i in range(y):\n",
        "    u, v = map(int, input().split())\n",
        "    if 0 <= u < x + 1:\n",
        "        lst_out[u - 1] += 1\n",
        "    if 0 <= v < x:\n",
        "        lst_in[v - 1] += 1\n",
        "diff = [0]*x\n",
        "for j in range(x):\n",
        "  diff[j] = lst_in[j] - lst_out[j]\n",
        "for k in diff:\n",
        "  print(k,end=\" \")"
      ],
      "metadata": {
        "colab": {
          "base_uri": "https://localhost:8080/"
        },
        "id": "Ca1X-JG_puEF",
        "outputId": "5a1ff204-b4a2-4c8e-d0fd-00c3158e08da"
      },
      "execution_count": null,
      "outputs": [
        {
          "output_type": "stream",
          "name": "stdout",
          "text": [
            "5 4\n",
            "5 1\n",
            "3 1\n",
            "3 2\n",
            "2 4\n",
            "2 0 -2 1 -1 "
          ]
        }
      ]
    },
    {
      "cell_type": "code",
      "source": [
        "# Task - F\n",
        "n = int(input())\n",
        "x, y = map(int, input().split())\n",
        "moves = [(-1, -1), (-1, 0), (-1, 1),(0, -1),(0, 1),(1, -1), (1, 0),(1, 1)]\n",
        "count = 0\n",
        "lsti = []\n",
        "lstj = []\n",
        "for i,j in moves:\n",
        "    u1 = x + i\n",
        "    v1 = y + j\n",
        "    if 1 <= u1 <= n and 1 <= v1 <= n:\n",
        "        count += 1\n",
        "        lsti.append(u1)\n",
        "        lstj.append(v1)\n",
        "print(count)\n",
        "for k in range(len(lsti)):\n",
        "  print(lsti[k],lstj[k])"
      ],
      "metadata": {
        "colab": {
          "base_uri": "https://localhost:8080/"
        },
        "id": "3iH6ZYQ4HJv-",
        "outputId": "9b5548d9-c914-4225-80ae-3a5e665848e9"
      },
      "execution_count": null,
      "outputs": [
        {
          "output_type": "stream",
          "name": "stdout",
          "text": [
            "8\n",
            "1 2\n",
            "5\n",
            "1 1\n",
            "1 3\n",
            "2 1\n",
            "2 2\n",
            "2 3\n"
          ]
        }
      ]
    },
    {
      "cell_type": "code",
      "source": [
        "# Task - G\n",
        "import math\n",
        "\n",
        "nodes, queries = map(int, input().split())\n",
        "\n",
        "neighbors_list = [[] for i in range(nodes + 1)]\n",
        "\n",
        "for i in range(1, nodes + 1):\n",
        "    for j in range(1, nodes + 1):\n",
        "        if i != j and math.gcd(i, j) == 1:\n",
        "            neighbors_list[i].append(j)\n",
        "\n",
        "for k in range(1, nodes + 1):\n",
        "    neighbors_list[i].sort()\n",
        "\n",
        "lst = []\n",
        "\n",
        "for a in range(queries):\n",
        "    vertex, position = map(int, input().split())\n",
        "    neighbors = neighbors_list[vertex]\n",
        "\n",
        "    if position <= len(neighbors):\n",
        "        lst.append(neighbors[position - 1])\n",
        "    else:\n",
        "        lst.append(-1)\n",
        "\n",
        "for b in lst:\n",
        "    print(b)"
      ],
      "metadata": {
        "colab": {
          "base_uri": "https://localhost:8080/"
        },
        "id": "zAX0sqMPT5WC",
        "outputId": "09002b40-eab0-4054-afb6-dd3fba3642d5"
      },
      "execution_count": null,
      "outputs": [
        {
          "output_type": "stream",
          "name": "stdout",
          "text": [
            "5 6\n",
            "1 3\n",
            "3 1\n",
            "4 2\n",
            "5 5\n",
            "3 4\n",
            "5 2\n",
            "4\n",
            "1\n",
            "3\n",
            "-1\n",
            "5\n",
            "2\n"
          ]
        }
      ]
    },
    {
      "cell_type": "code",
      "source": [
        "# Task - G\n",
        "import math\n",
        "nodes, queries = map(int, input().split())\n",
        "\n",
        "mat = [[0] * (nodes + 1) for i in range(nodes + 1)]\n",
        "\n",
        "for i in range(1, nodes + 1):\n",
        "    for j in range(1, nodes + 1):\n",
        "        if i != j and math.gcd(i, j) == 1:\n",
        "            mat[i][j] = 1\n",
        "lst = []\n",
        "for k in range(queries):\n",
        "    vertex, position = map(int, input().split())\n",
        "\n",
        "    neighbors = []\n",
        "    for idx in range(1, nodes + 1):\n",
        "        if mat[vertex][idx] == 1:\n",
        "            neighbors.append(idx)\n",
        "\n",
        "    if position <= len(neighbors):\n",
        "        lst.append(neighbors[position - 1])\n",
        "    else:\n",
        "        lst.append(-1)\n",
        "for a in lst:\n",
        "  print(a)"
      ],
      "metadata": {
        "colab": {
          "base_uri": "https://localhost:8080/"
        },
        "id": "zLd7I5uDRxdr",
        "outputId": "8a89a090-6c75-4c6e-87b5-0404d1467d9c"
      },
      "execution_count": null,
      "outputs": [
        {
          "output_type": "stream",
          "name": "stdout",
          "text": [
            "5 6\n",
            "1 3\n",
            "3 1\n",
            "4 2\n",
            "5 5\n",
            "3 4\n",
            "5 2\n",
            "4\n",
            "1\n",
            "3\n",
            "-1\n",
            "5\n",
            "2\n"
          ]
        }
      ]
    },
    {
      "cell_type": "code",
      "source": [
        "# Task - G\n",
        "# Read number of edges and number of queries\n",
        "n, q = map(int, input().split())\n",
        "\n",
        "# Find maximum node value to size the adjacency list correctly\n",
        "max_node = 0\n",
        "edges = []\n",
        "for _ in range(n):\n",
        "    u, v = map(int, input().split())\n",
        "    edges.append((u, v))\n",
        "    max_node = max(max_node, u, v)\n",
        "\n",
        "# Create adjacency list with size based on max node value\n",
        "adj = [[] for _ in range(max_node + 1)]\n",
        "\n",
        "# Populate adjacency list\n",
        "for u, v in edges:\n",
        "    adj[u].append(v)\n",
        "    adj[v].append(u)\n",
        "\n",
        "# Sort neighbor lists so we can fetch the x-th smallest neighbor\n",
        "for neighbors in adj:\n",
        "    neighbors.sort()\n",
        "\n",
        "# Handle queries\n",
        "for _ in range(q):\n",
        "    a, x = map(int, input().split())\n",
        "    if a < len(adj) and x <= len(adj[a]):\n",
        "        print(adj[a][x - 1])\n",
        "    else:\n",
        "        print(-1)\n"
      ],
      "metadata": {
        "id": "659zYrGGpmJL",
        "colab": {
          "base_uri": "https://localhost:8080/",
          "height": 547
        },
        "outputId": "ad931ac7-3c21-4d39-99d1-6b79f7dbe38e"
      },
      "execution_count": null,
      "outputs": [
        {
          "output_type": "stream",
          "name": "stdout",
          "text": [
            "5 6\n",
            "1 3\n",
            "3 1\n",
            "4 2\n",
            "5 5\n",
            "3 4\n",
            "5 2\n",
            "5\n",
            "5 2\n",
            "5\n"
          ]
        },
        {
          "output_type": "error",
          "ename": "KeyboardInterrupt",
          "evalue": "Interrupted by user",
          "traceback": [
            "\u001b[0;31m---------------------------------------------------------------------------\u001b[0m",
            "\u001b[0;31mKeyboardInterrupt\u001b[0m                         Traceback (most recent call last)",
            "\u001b[0;32m<ipython-input-2-f58201626104>\u001b[0m in \u001b[0;36m<cell line: 0>\u001b[0;34m()\u001b[0m\n\u001b[1;32m     25\u001b[0m \u001b[0;31m# Handle queries\u001b[0m\u001b[0;34m\u001b[0m\u001b[0;34m\u001b[0m\u001b[0m\n\u001b[1;32m     26\u001b[0m \u001b[0;32mfor\u001b[0m \u001b[0m_\u001b[0m \u001b[0;32min\u001b[0m \u001b[0mrange\u001b[0m\u001b[0;34m(\u001b[0m\u001b[0mq\u001b[0m\u001b[0;34m)\u001b[0m\u001b[0;34m:\u001b[0m\u001b[0;34m\u001b[0m\u001b[0;34m\u001b[0m\u001b[0m\n\u001b[0;32m---> 27\u001b[0;31m     \u001b[0ma\u001b[0m\u001b[0;34m,\u001b[0m \u001b[0mx\u001b[0m \u001b[0;34m=\u001b[0m \u001b[0mmap\u001b[0m\u001b[0;34m(\u001b[0m\u001b[0mint\u001b[0m\u001b[0;34m,\u001b[0m \u001b[0minput\u001b[0m\u001b[0;34m(\u001b[0m\u001b[0;34m)\u001b[0m\u001b[0;34m.\u001b[0m\u001b[0msplit\u001b[0m\u001b[0;34m(\u001b[0m\u001b[0;34m)\u001b[0m\u001b[0;34m)\u001b[0m\u001b[0;34m\u001b[0m\u001b[0;34m\u001b[0m\u001b[0m\n\u001b[0m\u001b[1;32m     28\u001b[0m     \u001b[0;32mif\u001b[0m \u001b[0ma\u001b[0m \u001b[0;34m<\u001b[0m \u001b[0mlen\u001b[0m\u001b[0;34m(\u001b[0m\u001b[0madj\u001b[0m\u001b[0;34m)\u001b[0m \u001b[0;32mand\u001b[0m \u001b[0mx\u001b[0m \u001b[0;34m<=\u001b[0m \u001b[0mlen\u001b[0m\u001b[0;34m(\u001b[0m\u001b[0madj\u001b[0m\u001b[0;34m[\u001b[0m\u001b[0ma\u001b[0m\u001b[0;34m]\u001b[0m\u001b[0;34m)\u001b[0m\u001b[0;34m:\u001b[0m\u001b[0;34m\u001b[0m\u001b[0;34m\u001b[0m\u001b[0m\n\u001b[1;32m     29\u001b[0m         \u001b[0mprint\u001b[0m\u001b[0;34m(\u001b[0m\u001b[0madj\u001b[0m\u001b[0;34m[\u001b[0m\u001b[0ma\u001b[0m\u001b[0;34m]\u001b[0m\u001b[0;34m[\u001b[0m\u001b[0mx\u001b[0m \u001b[0;34m-\u001b[0m \u001b[0;36m1\u001b[0m\u001b[0;34m]\u001b[0m\u001b[0;34m)\u001b[0m\u001b[0;34m\u001b[0m\u001b[0;34m\u001b[0m\u001b[0m\n",
            "\u001b[0;32m/usr/local/lib/python3.11/dist-packages/ipykernel/kernelbase.py\u001b[0m in \u001b[0;36mraw_input\u001b[0;34m(self, prompt)\u001b[0m\n\u001b[1;32m   1175\u001b[0m                 \u001b[0;34m\"raw_input was called, but this frontend does not support input requests.\"\u001b[0m\u001b[0;34m\u001b[0m\u001b[0;34m\u001b[0m\u001b[0m\n\u001b[1;32m   1176\u001b[0m             )\n\u001b[0;32m-> 1177\u001b[0;31m         return self._input_request(\n\u001b[0m\u001b[1;32m   1178\u001b[0m             \u001b[0mstr\u001b[0m\u001b[0;34m(\u001b[0m\u001b[0mprompt\u001b[0m\u001b[0;34m)\u001b[0m\u001b[0;34m,\u001b[0m\u001b[0;34m\u001b[0m\u001b[0;34m\u001b[0m\u001b[0m\n\u001b[1;32m   1179\u001b[0m             \u001b[0mself\u001b[0m\u001b[0;34m.\u001b[0m\u001b[0m_parent_ident\u001b[0m\u001b[0;34m[\u001b[0m\u001b[0;34m\"shell\"\u001b[0m\u001b[0;34m]\u001b[0m\u001b[0;34m,\u001b[0m\u001b[0;34m\u001b[0m\u001b[0;34m\u001b[0m\u001b[0m\n",
            "\u001b[0;32m/usr/local/lib/python3.11/dist-packages/ipykernel/kernelbase.py\u001b[0m in \u001b[0;36m_input_request\u001b[0;34m(self, prompt, ident, parent, password)\u001b[0m\n\u001b[1;32m   1217\u001b[0m             \u001b[0;32mexcept\u001b[0m \u001b[0mKeyboardInterrupt\u001b[0m\u001b[0;34m:\u001b[0m\u001b[0;34m\u001b[0m\u001b[0;34m\u001b[0m\u001b[0m\n\u001b[1;32m   1218\u001b[0m                 \u001b[0;31m# re-raise KeyboardInterrupt, to truncate traceback\u001b[0m\u001b[0;34m\u001b[0m\u001b[0;34m\u001b[0m\u001b[0m\n\u001b[0;32m-> 1219\u001b[0;31m                 \u001b[0;32mraise\u001b[0m \u001b[0mKeyboardInterrupt\u001b[0m\u001b[0;34m(\u001b[0m\u001b[0;34m\"Interrupted by user\"\u001b[0m\u001b[0;34m)\u001b[0m \u001b[0;32mfrom\u001b[0m \u001b[0;32mNone\u001b[0m\u001b[0;34m\u001b[0m\u001b[0;34m\u001b[0m\u001b[0m\n\u001b[0m\u001b[1;32m   1220\u001b[0m             \u001b[0;32mexcept\u001b[0m \u001b[0mException\u001b[0m\u001b[0;34m:\u001b[0m\u001b[0;34m\u001b[0m\u001b[0;34m\u001b[0m\u001b[0m\n\u001b[1;32m   1221\u001b[0m                 \u001b[0mself\u001b[0m\u001b[0;34m.\u001b[0m\u001b[0mlog\u001b[0m\u001b[0;34m.\u001b[0m\u001b[0mwarning\u001b[0m\u001b[0;34m(\u001b[0m\u001b[0;34m\"Invalid Message:\"\u001b[0m\u001b[0;34m,\u001b[0m \u001b[0mexc_info\u001b[0m\u001b[0;34m=\u001b[0m\u001b[0;32mTrue\u001b[0m\u001b[0;34m)\u001b[0m\u001b[0;34m\u001b[0m\u001b[0;34m\u001b[0m\u001b[0m\n",
            "\u001b[0;31mKeyboardInterrupt\u001b[0m: Interrupted by user"
          ]
        }
      ]
    }
  ]
}