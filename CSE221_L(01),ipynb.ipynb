{
  "nbformat": 4,
  "nbformat_minor": 0,
  "metadata": {
    "colab": {
      "provenance": []
    },
    "kernelspec": {
      "name": "python3",
      "display_name": "Python 3"
    },
    "language_info": {
      "name": "python"
    }
  },
  "cells": [
    {
      "cell_type": "code",
      "execution_count": null,
      "metadata": {
        "id": "sfvoi6GUjFt1",
        "colab": {
          "base_uri": "https://localhost:8080/"
        },
        "outputId": "3f73f80e-2266-4cc0-c9ec-6b7e93bd06ff"
      },
      "outputs": [
        {
          "output_type": "stream",
          "name": "stdout",
          "text": [
            "10\n",
            "10\n"
          ]
        }
      ],
      "source": [
        "t=int(input())\n",
        "print(t)"
      ]
    },
    {
      "cell_type": "code",
      "source": [
        "#Task- A\n",
        "t = int(input())\n",
        "for i in range(t):\n",
        "    a = int(input())\n",
        "    if a % 2 == 0:\n",
        "        print(a,\"is an Even number.\")\n",
        "    else:\n",
        "        print(a,\"is an Odd number.\")"
      ],
      "metadata": {
        "colab": {
          "base_uri": "https://localhost:8080/"
        },
        "id": "5rjtpeaHlydZ",
        "outputId": "18106503-232b-472c-a927-0fdf6cd7d544"
      },
      "execution_count": null,
      "outputs": [
        {
          "output_type": "stream",
          "name": "stdout",
          "text": [
            "5\n",
            "5\n",
            "5 is an Odd number.\n",
            "41\n",
            "41 is an Odd number.\n",
            "2\n",
            "2 is an Even number.\n",
            "100\n",
            "100 is an Even number.\n",
            "78\n",
            "78 is an Even number.\n"
          ]
        }
      ]
    },
    {
      "cell_type": "code",
      "source": [
        "#Task - B\n",
        "t = int(input())\n",
        "for i in range(t):\n",
        "  a = str(input())\n",
        "  for i in a:\n",
        "    ans = 0\n",
        "    num1 = \"\"\n",
        "    num2 = \"\"\n",
        "    if a == 0 or a == 1 or a == 2 or a == 3 or a == 4 or a == 5 or a == 6 or a == 7 or a == 8 or a == 9:\n",
        "      num1 += a\n",
        "    if a == \"+\""
      ],
      "metadata": {
        "colab": {
          "base_uri": "https://localhost:8080/"
        },
        "id": "rbBGFocFoUJy",
        "outputId": "47ab4cf0-9fad-42b8-c233-c40f6213b3a3"
      },
      "execution_count": null,
      "outputs": [
        {
          "output_type": "stream",
          "name": "stdout",
          "text": [
            "1\n",
            "calculate 67 +  41\n",
            "calculate 67 +  41\n"
          ]
        }
      ]
    },
    {
      "cell_type": "code",
      "source": [
        "#Task - B\n",
        "for i in range(int(input())):\n",
        "  a = str(input())\n",
        "  b = a.split()\n",
        "  num1 = int(b[1])\n",
        "  op = b[2]\n",
        "  num2 = int(b[3])\n",
        "  if op == \"+\":\n",
        "    print(\"{:.6f}\".format(num1+num2))\n",
        "  elif op == \"-\":\n",
        "    print(\"{:.6f}\".format(num1-num2))\n",
        "  elif op == \"*\":\n",
        "    print(\"{:.6f}\".format(num1*num2))\n",
        "  elif op == \"/\":\n",
        "    print(\"{:.6f}\".format(num1/num2))"
      ],
      "metadata": {
        "colab": {
          "base_uri": "https://localhost:8080/"
        },
        "id": "XdyMopgCnTIl",
        "outputId": "3a10f1f3-1ac1-447c-fb25-d116561868c5"
      },
      "execution_count": null,
      "outputs": [
        {
          "output_type": "stream",
          "name": "stdout",
          "text": [
            "4\n",
            "calculate 67 + 41\n",
            "108.000000\n",
            "calculate 85 / 5\n",
            "17.000000\n",
            "calculate 13 - 56\n",
            "-43.000000\n",
            "calculate 12 * 19\n",
            "228.000000\n"
          ]
        }
      ]
    },
    {
      "cell_type": "code",
      "source": [
        "li=input().split()\n",
        "n = int(li[0])\n",
        "k = int(li[1])\n",
        "lst = []\n",
        "for i in range(n):\n",
        "  lst.append(int(input()))\n",
        "if n%2==0:\n",
        "  for j in range(-k+1,-len(lst)-1,-1):\n",
        "    print(lst[j],end=\" \")\n",
        "else:\n",
        "    for k in range(-k,-len(lst)-1,-1):\n",
        "      print(lst[k],end=\" \")"
      ],
      "metadata": {
        "colab": {
          "base_uri": "https://localhost:8080/"
        },
        "id": "mhlf9SUXDJi_",
        "outputId": "ae31ed6a-75fc-4cea-8977-08c1dcb694ca"
      },
      "execution_count": null,
      "outputs": [
        {
          "output_type": "stream",
          "name": "stdout",
          "text": [
            "8 5\n",
            "20\n",
            "8\n",
            "9\n",
            "3\n",
            "10\n",
            "7\n",
            "100\n",
            "12\n",
            "10 3 9 8 20 "
          ]
        }
      ]
    },
    {
      "cell_type": "code",
      "source": [
        "# Task - C\n",
        "li=input().split()\n",
        "n = int(li[0])\n",
        "k = int(li[1])\n",
        "lst = input().split()\n",
        "if n%2==0:\n",
        "  for j in range(-k+1,-len(lst)-1,-1):\n",
        "    print(lst[j],end=\" \")\n",
        "else:\n",
        "    for a in range(-k,-len(lst)-1,-1):\n",
        "      print(lst[a],end=\" \")"
      ],
      "metadata": {
        "colab": {
          "base_uri": "https://localhost:8080/"
        },
        "id": "4QxZFTwcsiIi",
        "outputId": "f5642469-9ecd-49de-ca73-a46d681c8f4e"
      },
      "execution_count": null,
      "outputs": [
        {
          "output_type": "stream",
          "name": "stdout",
          "text": [
            "8 5\n",
            "20 8 9 3 10 7 100 12\n",
            "10 3 9 8 20 "
          ]
        }
      ]
    },
    {
      "cell_type": "code",
      "source": [
        "# Task - C\n",
        "li = input().split()\n",
        "n = int(li[0])\n",
        "k = int(li[1])\n",
        "lst = input().split()\n",
        "rev = lst[::-1]\n",
        "if n%2 != 0:\n",
        "  out = \" \".join(map(str,rev[k-1:len(rev)]))\n",
        "  print(out)\n",
        "else:\n",
        "  out = \" \".join(map(str,rev[k-2:len(rev)]))\n",
        "  print(out)"
      ],
      "metadata": {
        "colab": {
          "base_uri": "https://localhost:8080/"
        },
        "id": "r1pDZKJJaQp6",
        "outputId": "2db3da9a-681c-4e7b-fa08-dd859c7091c5"
      },
      "execution_count": null,
      "outputs": [
        {
          "output_type": "stream",
          "name": "stdout",
          "text": [
            "8 5\n",
            "20 8 9 3 10 7 100 12\n",
            "10 3 9 8 20\n"
          ]
        }
      ]
    },
    {
      "cell_type": "code",
      "source": [
        "# Task - C\n",
        "li=input().split()\n",
        "n = int(li[0])\n",
        "k = int(li[1])\n",
        "lst = []\n",
        "for i in range(n):\n",
        "  lst.append(int(input()))\n",
        "rev = lst[::-1]\n",
        "out = \" \".join(map(str,rev[k-1:len(rev)]))\n",
        "print(out)\n",
        "\n",
        "\n",
        "\n",
        "# if n%2==0:\n",
        "#   for j in range(-k+1,-len(lst)-1,-1):\n",
        "#     print(lst[j],end=\" \")\n",
        "# else:\n",
        "#     for k in range(-k,-len(lst)-1,-1):\n",
        "#       print(lst[k],end=\" \")"
      ],
      "metadata": {
        "colab": {
          "base_uri": "https://localhost:8080/"
        },
        "id": "Lj4hOHygYWLa",
        "outputId": "3545f75a-176f-462a-adef-d78e209e0041"
      },
      "execution_count": null,
      "outputs": [
        {
          "output_type": "stream",
          "name": "stdout",
          "text": [
            "8 5\n",
            "20\n",
            "8\n",
            "9\n",
            "3\n",
            "10\n",
            "7\n",
            "100\n",
            "12\n",
            "3 9 8 20\n"
          ]
        }
      ]
    },
    {
      "cell_type": "code",
      "source": [
        "# Task - C\n",
        "li=input().split()\n",
        "n = int(li[0])\n",
        "k = int(li[1])\n",
        "lst = []\n",
        "for i in range(n):\n",
        "  lst.append(int(input()))\n",
        "rev = lst[::-1]\n",
        "#print(lst)\n",
        "for j in range(k):\n",
        "  print(rev[j],end=\" \")\n",
        "#print(rev)\n",
        "# for j in range(len(lst)//2):\n",
        "#   lst[j] = lst[len(lst)-j-1]\n",
        "#   lst[len(lst)-j-1] = lst[j]\n",
        "# print(lst)a\n"
      ],
      "metadata": {
        "colab": {
          "base_uri": "https://localhost:8080/"
        },
        "id": "MJ_76xskSwqf",
        "outputId": "dc64ef7f-d685-4ee3-c195-54bec7ac9ac3"
      },
      "execution_count": null,
      "outputs": [
        {
          "output_type": "stream",
          "name": "stdout",
          "text": [
            "5 3\n",
            "5\n",
            "6\n",
            "7\n",
            "8\n",
            "9\n",
            "9 8 7 "
          ]
        }
      ]
    },
    {
      "cell_type": "code",
      "source": [
        "a = [20,8,9,3,10,7,100,12]\n",
        "for i in range(-5+1,-len(a)-1,-1):\n",
        "  print(a[i],end=\" \")\n",
        "# print()\n",
        "# b = [5,6,7,8,9]\n",
        "# for j in range(-3+1,-len(a)-1,-1):\n",
        "#   print(b[j],end=\" \")"
      ],
      "metadata": {
        "colab": {
          "base_uri": "https://localhost:8080/"
        },
        "id": "OWAH2S2wvLy0",
        "outputId": "668614f0-d371-4bdb-8838-761252087574"
      },
      "execution_count": null,
      "outputs": [
        {
          "output_type": "stream",
          "name": "stdout",
          "text": [
            "10 3 9 8 20 "
          ]
        }
      ]
    },
    {
      "cell_type": "code",
      "source": [
        "# Task - C\n",
        "li=input().split()\n",
        "n = int(li[0])\n",
        "k = int(li[1])\n",
        "lst = []\n",
        "for i in range(n):\n",
        "  lst.append(int(input()))\n",
        "new = []\n",
        "for j in range(k):\n",
        "\n",
        "\n",
        "# print(n)\n",
        "# print(k)"
      ],
      "metadata": {
        "colab": {
          "base_uri": "https://localhost:8080/"
        },
        "id": "epfkBiGytmJi",
        "outputId": "2ab144de-3449-4b3f-8828-fa0f98e3999b"
      },
      "execution_count": null,
      "outputs": [
        {
          "output_type": "stream",
          "name": "stdout",
          "text": [
            "5 3\n",
            "5\n",
            "6\n",
            "7\n",
            "8\n",
            "9\n",
            "[5, 6, 7, 8, 9]\n"
          ]
        }
      ]
    },
    {
      "cell_type": "code",
      "source": [
        "for i in range(2+1):\n",
        "  print(i)"
      ],
      "metadata": {
        "colab": {
          "base_uri": "https://localhost:8080/"
        },
        "id": "75fpnT9eJY8_",
        "outputId": "626c8ee4-ce0b-47eb-e05f-a7910535d339"
      },
      "execution_count": null,
      "outputs": [
        {
          "output_type": "stream",
          "name": "stdout",
          "text": [
            "0\n",
            "1\n",
            "2\n"
          ]
        }
      ]
    },
    {
      "cell_type": "code",
      "source": [
        "# Task- D\n",
        "for i in range(int(input())):\n",
        "  n = int(input())\n",
        "  print(int((n*(n+1))/2))"
      ],
      "metadata": {
        "colab": {
          "base_uri": "https://localhost:8080/"
        },
        "id": "h4Pbtm0Pzh5_",
        "outputId": "389d226d-e03f-49e0-c7cb-402e49929335"
      },
      "execution_count": null,
      "outputs": [
        {
          "output_type": "stream",
          "name": "stdout",
          "text": [
            "5\n",
            "2\n",
            "3\n",
            "5\n",
            "15\n",
            "10\n",
            "55\n",
            "12\n",
            "78\n",
            "100\n",
            "5050\n"
          ]
        }
      ]
    },
    {
      "cell_type": "code",
      "source": [
        "# Task - D\n",
        "for i in range(int(input())):\n",
        "  sum = 0\n",
        "  for j in range(1+int(input())):\n",
        "    sum = sum + j\n",
        "  print(sum)"
      ],
      "metadata": {
        "id": "OtzfBRYo3geM",
        "colab": {
          "base_uri": "https://localhost:8080/"
        },
        "outputId": "d484f90b-d200-467e-c10c-9f9ab9febbf7"
      },
      "execution_count": null,
      "outputs": [
        {
          "output_type": "stream",
          "name": "stdout",
          "text": [
            "5\n",
            "2\n",
            "3\n",
            "5\n",
            "15\n",
            "10\n",
            "55\n",
            "12\n",
            "78\n",
            "100\n",
            "5050\n"
          ]
        }
      ]
    },
    {
      "cell_type": "code",
      "source": [
        "# Task - E\n",
        "a = []\n",
        "for k in range(int(input())):\n",
        "  a.append(int(input()))\n",
        "for i in range(len(a)-1):\n",
        "  for j in range(i):\n",
        "    if a[j] > a[j+1]:\n",
        "      temp = a[j]\n",
        "      a[j] = a[j+1]\n",
        "      a[j+1] = temp\n",
        "print(a)"
      ],
      "metadata": {
        "id": "2sY2_mkf3j0r",
        "colab": {
          "base_uri": "https://localhost:8080/",
          "height": 245
        },
        "outputId": "6ed39d47-810c-4223-8a0d-d2849012eb62"
      },
      "execution_count": null,
      "outputs": [
        {
          "name": "stdout",
          "output_type": "stream",
          "text": [
            "5\n",
            "3 2 1 4 5\n"
          ]
        },
        {
          "output_type": "error",
          "ename": "ValueError",
          "evalue": "invalid literal for int() with base 10: '3 2 1 4 5'",
          "traceback": [
            "\u001b[0;31m---------------------------------------------------------------------------\u001b[0m",
            "\u001b[0;31mValueError\u001b[0m                                Traceback (most recent call last)",
            "\u001b[0;32m<ipython-input-10-aace3a14b939>\u001b[0m in \u001b[0;36m<cell line: 0>\u001b[0;34m()\u001b[0m\n\u001b[1;32m      1\u001b[0m \u001b[0;31m# Task - E\u001b[0m\u001b[0;34m\u001b[0m\u001b[0;34m\u001b[0m\u001b[0m\n\u001b[1;32m      2\u001b[0m \u001b[0mb\u001b[0m \u001b[0;34m=\u001b[0m \u001b[0mint\u001b[0m\u001b[0;34m(\u001b[0m\u001b[0minput\u001b[0m\u001b[0;34m(\u001b[0m\u001b[0;34m)\u001b[0m\u001b[0;34m)\u001b[0m\u001b[0;34m\u001b[0m\u001b[0;34m\u001b[0m\u001b[0m\n\u001b[0;32m----> 3\u001b[0;31m \u001b[0ma\u001b[0m \u001b[0;34m=\u001b[0m \u001b[0mint\u001b[0m\u001b[0;34m(\u001b[0m\u001b[0minput\u001b[0m\u001b[0;34m(\u001b[0m\u001b[0;34m)\u001b[0m\u001b[0;34m)\u001b[0m\u001b[0;34m.\u001b[0m\u001b[0msplit\u001b[0m\u001b[0;34m(\u001b[0m\u001b[0;34m)\u001b[0m\u001b[0;34m\u001b[0m\u001b[0;34m\u001b[0m\u001b[0m\n\u001b[0m\u001b[1;32m      4\u001b[0m \u001b[0;34m\u001b[0m\u001b[0m\n\u001b[1;32m      5\u001b[0m \u001b[0;32mfor\u001b[0m \u001b[0mi\u001b[0m \u001b[0;32min\u001b[0m \u001b[0mrange\u001b[0m\u001b[0;34m(\u001b[0m\u001b[0mlen\u001b[0m\u001b[0;34m(\u001b[0m\u001b[0ma\u001b[0m\u001b[0;34m)\u001b[0m\u001b[0;34m-\u001b[0m\u001b[0;36m1\u001b[0m\u001b[0;34m)\u001b[0m\u001b[0;34m:\u001b[0m\u001b[0;34m\u001b[0m\u001b[0;34m\u001b[0m\u001b[0m\n",
            "\u001b[0;31mValueError\u001b[0m: invalid literal for int() with base 10: '3 2 1 4 5'"
          ]
        }
      ]
    },
    {
      "cell_type": "code",
      "source": [
        "# Task- E\n",
        "def bubble_sort(arr):\n",
        "  for i in range(len(arr)-1):\n",
        "    for j in range(i):\n",
        "      if arr[j] > arr[j+1]:\n",
        "        temp = arr[j]\n",
        "        arr[j] = a[j+1]\n",
        "        arr[j+1] = temp\n",
        "a = [3,2,1,4,5]\n",
        "bubble_sort(a)\n",
        "print(a)\n",
        "b = [5,10,15,20,25,30]\n",
        "bubble_sort(b)\n",
        "print(b)"
      ],
      "metadata": {
        "id": "sUpUqWMqv-Qh",
        "colab": {
          "base_uri": "https://localhost:8080/"
        },
        "outputId": "7a45831d-6e32-4409-a3d6-ab42a5c1009b"
      },
      "execution_count": null,
      "outputs": [
        {
          "output_type": "stream",
          "name": "stdout",
          "text": [
            "[1, 2, 3, 4, 5]\n",
            "[5, 10, 15, 20, 25, 30]\n"
          ]
        }
      ]
    },
    {
      "cell_type": "code",
      "source": [
        "\n",
        "a = [3,2,1,4,5]\n",
        "for i in range(len(a)-1):\n",
        "  print(a[i])"
      ],
      "metadata": {
        "colab": {
          "base_uri": "https://localhost:8080/"
        },
        "id": "bFPL9RR-t_wE",
        "outputId": "0927a4dc-dde2-4517-b481-aee2f04cdac1"
      },
      "execution_count": null,
      "outputs": [
        {
          "output_type": "stream",
          "name": "stdout",
          "text": [
            "3\n",
            "2\n",
            "1\n",
            "4\n"
          ]
        }
      ]
    },
    {
      "cell_type": "code",
      "source": [
        "a = {1:10,2:10,3:20,4:50,5:10,7:40,9:50}\n",
        "print(a[50])"
      ],
      "metadata": {
        "colab": {
          "base_uri": "https://localhost:8080/",
          "height": 158
        },
        "id": "mIUdvMhMuSOd",
        "outputId": "2963e697-1827-487c-c761-485e0d477f73"
      },
      "execution_count": null,
      "outputs": [
        {
          "output_type": "error",
          "ename": "KeyError",
          "evalue": "50",
          "traceback": [
            "\u001b[0;31m---------------------------------------------------------------------------\u001b[0m",
            "\u001b[0;31mKeyError\u001b[0m                                  Traceback (most recent call last)",
            "\u001b[0;32m<ipython-input-33-6b19a370f707>\u001b[0m in \u001b[0;36m<cell line: 0>\u001b[0;34m()\u001b[0m\n\u001b[1;32m      1\u001b[0m \u001b[0ma\u001b[0m \u001b[0;34m=\u001b[0m \u001b[0;34m{\u001b[0m\u001b[0;36m1\u001b[0m\u001b[0;34m:\u001b[0m\u001b[0;36m10\u001b[0m\u001b[0;34m,\u001b[0m\u001b[0;36m2\u001b[0m\u001b[0;34m:\u001b[0m\u001b[0;36m10\u001b[0m\u001b[0;34m,\u001b[0m\u001b[0;36m3\u001b[0m\u001b[0;34m:\u001b[0m\u001b[0;36m20\u001b[0m\u001b[0;34m,\u001b[0m\u001b[0;36m4\u001b[0m\u001b[0;34m:\u001b[0m\u001b[0;36m50\u001b[0m\u001b[0;34m,\u001b[0m\u001b[0;36m5\u001b[0m\u001b[0;34m:\u001b[0m\u001b[0;36m10\u001b[0m\u001b[0;34m,\u001b[0m\u001b[0;36m7\u001b[0m\u001b[0;34m:\u001b[0m\u001b[0;36m40\u001b[0m\u001b[0;34m,\u001b[0m\u001b[0;36m9\u001b[0m\u001b[0;34m:\u001b[0m\u001b[0;36m50\u001b[0m\u001b[0;34m}\u001b[0m\u001b[0;34m\u001b[0m\u001b[0;34m\u001b[0m\u001b[0m\n\u001b[0;32m----> 2\u001b[0;31m \u001b[0mprint\u001b[0m\u001b[0;34m(\u001b[0m\u001b[0ma\u001b[0m\u001b[0;34m[\u001b[0m\u001b[0;36m50\u001b[0m\u001b[0;34m]\u001b[0m\u001b[0;34m)\u001b[0m\u001b[0;34m\u001b[0m\u001b[0;34m\u001b[0m\u001b[0m\n\u001b[0m",
            "\u001b[0;31mKeyError\u001b[0m: 50"
          ]
        }
      ]
    },
    {
      "cell_type": "code",
      "source": [
        "# Task - F\n",
        "#a = {1:10,2:10,3:20,4:50,5:10,7:40,9:50}\n",
        "a = {40:7,50:4,50:9,20:3,10:2,10:5,10:1}\n",
        "key1 = []\n",
        "val1 = []\n",
        "count = 0\n",
        "for key,val in a.items():\n",
        "  # key1.append(key)\n",
        "  print(key,val)\n",
        "# print(key1)\n",
        "for i in range(len(val1)):\n",
        "  max = i\n",
        "  for j in range(i,len(val1)):\n",
        "    if val1[j] > val1[max]:\n",
        "      max = j\n",
        "      count+=1\n",
        "    else:\n",
        "      pass\n",
        "  temp = val1[i]\n",
        "  val1[i] = val1[max]\n",
        "  val1[max] = temp\n",
        "  # print(\"ID :\",,\"Mark :\",val1[i])\n",
        "# print(val1)\n",
        "# print(count)"
      ],
      "metadata": {
        "id": "FR8TveAp3oar",
        "colab": {
          "base_uri": "https://localhost:8080/"
        },
        "outputId": "5bedf3c9-ee27-4e62-9aaa-7ddeba75e8fa"
      },
      "execution_count": null,
      "outputs": [
        {
          "output_type": "stream",
          "name": "stdout",
          "text": [
            "40 7\n",
            "50 9\n",
            "20 3\n",
            "10 1\n"
          ]
        }
      ]
    },
    {
      "cell_type": "code",
      "source": [
        "def rank_students(students):\n",
        "    n = len(students)\n",
        "    count\n",
        "    # Selection Sort to minimize swaps\n",
        "    for i in range(n):\n",
        "        min_idx = i\n",
        "        for j in range(i + 1, n):\n",
        "            # Sorting by marks in descending order, if equal, by ID in ascending order\n",
        "            if (students[j][1] > students[min_idx][1]) or \\\n",
        "               (students[j][1] == students[min_idx][1] and students[j][0] < students[min_idx][0]):\n",
        "                min_idx = j\n",
        "\n",
        "        # Swap only if needed\n",
        "        if min_idx != i:\n",
        "            students[i], students[min_idx] = students[min_idx], students[i]\n",
        "\n",
        "    return students\n",
        "\n",
        "# Example usage\n",
        "students = [(7, 80), (2, 60), (5, 80), (3, 50)]\n",
        "ranked_students = rank_students(students)\n",
        "for student in ranked_students:\n",
        "    print(\"ID :\",student[0],\"Mark :\",student[1])"
      ],
      "metadata": {
        "colab": {
          "base_uri": "https://localhost:8080/"
        },
        "id": "dgvREYh3hQmn",
        "outputId": "86511a84-e0cb-4313-c9ac-d062347577c6"
      },
      "execution_count": null,
      "outputs": [
        {
          "output_type": "stream",
          "name": "stdout",
          "text": [
            "ID : 5 Mark : 80\n",
            "ID : 7 Mark : 80\n",
            "ID : 2 Mark : 60\n",
            "ID : 3 Mark : 50\n"
          ]
        }
      ]
    },
    {
      "cell_type": "code",
      "source": [
        "students = [(7, 80), (2, 60), (5, 80), (3, 50)]\n",
        "n = len(students)\n",
        "    # Selection Sort to minimize swaps\n",
        "for i in range(n):\n",
        "    min_idx = i\n",
        "    for j in range(i + 1, n):\n",
        "            # Sorting by marks in descending order, if equal, by ID in ascending order\n",
        "        if (students[j][1] > students[min_idx][1]) or \\\n",
        "            (students[j][1] == students[min_idx][1] and students[j][0] < students[min_idx][0]):\n",
        "            min_idx = j\n",
        "            #count+=1\n",
        "\n",
        "        # Swap only if needed\n",
        "    if min_idx != i:\n",
        "        count+=1\n",
        "        students[i], students[min_idx] = students[min_idx], students[i]\n",
        "\n",
        "# Example usage\n",
        "print(count)\n",
        "for student in ranked_students:\n",
        "    print(\"ID :\",student[0],\"Mark :\",student[1])\n"
      ],
      "metadata": {
        "colab": {
          "base_uri": "https://localhost:8080/"
        },
        "id": "SvftHf2gh34F",
        "outputId": "ab12dddb-64c4-49d5-9dd3-658c3c660202"
      },
      "execution_count": null,
      "outputs": [
        {
          "output_type": "stream",
          "name": "stdout",
          "text": [
            "28\n",
            "ID : 5 Mark : 80\n",
            "ID : 7 Mark : 80\n",
            "ID : 2 Mark : 60\n",
            "ID : 3 Mark : 50\n"
          ]
        }
      ]
    },
    {
      "cell_type": "code",
      "source": [
        "students = [(7, 80), (2, 60), (5, 80), (3, 50)]\n",
        "n = len(students)\n",
        "    # Selection Sort to minimize swaps\n",
        "for i in range(n):\n",
        "    min_idx = i\n",
        "    for j in range(i + 1, n):\n",
        "            # Sorting by marks in descending order, if equal, by ID in ascending order\n",
        "        if (students[j][1] > students[min_idx][1]) or \\\n",
        "            (students[j][1] == students[min_idx][1] and students[j][0] < students[min_idx][0]):\n",
        "            min_idx = j\n",
        "            #count+=1\n",
        "\n",
        "        # Swap only if needed\n",
        "    if min_idx != i:\n",
        "        count+=1\n",
        "        students[i], students[min_idx] = students[min_idx], students[i]\n",
        "\n",
        "# Example usage\n",
        "print(count)\n",
        "for student in ranked_students:\n",
        "    print(\"ID :\",student[0],\"Mark :\",student[1])\n"
      ],
      "metadata": {
        "id": "Vj-DHiLti9kh",
        "outputId": "b4375b62-70b2-434b-a0c8-4ed1c2a3bd3f",
        "colab": {
          "base_uri": "https://localhost:8080/"
        }
      },
      "execution_count": null,
      "outputs": [
        {
          "output_type": "stream",
          "name": "stdout",
          "text": [
            "30\n",
            "ID : 5 Mark : 80\n",
            "ID : 7 Mark : 80\n",
            "ID : 2 Mark : 60\n",
            "ID : 3 Mark : 50\n"
          ]
        }
      ]
    },
    {
      "cell_type": "code",
      "source": [
        "# Task - G\n",
        "t = int(input())\n",
        "new = []\n",
        "for i in range(t):\n",
        "  a = str(input())\n",
        "  b = a.split()\n",
        "# new = []\n",
        "# for j in range(t):\n",
        "  new.append(b[0])\n",
        "print(min(new))\n",
        "\n",
        "#print(new)\n",
        "\n",
        "\n",
        "\n",
        "  # print(b)\n",
        "  # print(len(b))"
      ],
      "metadata": {
        "id": "1nhLAvDI3rAb",
        "colab": {
          "base_uri": "https://localhost:8080/"
        },
        "outputId": "60d69311-fcbf-4531-a181-18314fc6edf8"
      },
      "execution_count": null,
      "outputs": [
        {
          "output_type": "stream",
          "name": "stdout",
          "text": [
            "2\n",
            "ABCD will departure for Mymensingh at 00:30\n",
            "ABC will departure for Mymensingh at 00:30\n",
            "ABC\n"
          ]
        }
      ]
    },
    {
      "cell_type": "code",
      "source": [
        "# create a python dictionary\n",
        "d = {1:10,2:10,3:20,4:50,5:10,7:40,9:50}\n",
        "\n",
        "# loop over dict values\n",
        "for key in d.values():\n",
        "    print(key)\n"
      ],
      "metadata": {
        "colab": {
          "base_uri": "https://localhost:8080/"
        },
        "id": "OWilYjd7v0KE",
        "outputId": "116b5bb8-5704-4d85-9174-98231971e55e"
      },
      "execution_count": null,
      "outputs": [
        {
          "output_type": "stream",
          "name": "stdout",
          "text": [
            "10\n",
            "10\n",
            "20\n",
            "50\n",
            "10\n",
            "40\n",
            "50\n"
          ]
        }
      ]
    }
  ]
}