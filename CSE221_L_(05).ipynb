{
  "nbformat": 4,
  "nbformat_minor": 0,
  "metadata": {
    "colab": {
      "provenance": []
    },
    "kernelspec": {
      "name": "python3",
      "display_name": "Python 3"
    },
    "language_info": {
      "name": "python"
    }
  },
  "cells": [
    {
      "cell_type": "code",
      "execution_count": null,
      "metadata": {
        "id": "u8GfCJe-9xkP",
        "colab": {
          "base_uri": "https://localhost:8080/"
        },
        "outputId": "2b3d6ef2-73a8-4904-8d42-607f994c7443"
      },
      "outputs": [
        {
          "output_type": "stream",
          "name": "stdout",
          "text": [
            "5 4\n",
            "5 1\n",
            "1 4\n",
            "4 2\n",
            "3 2\n",
            "1 4 5 2 3\n"
          ]
        }
      ],
      "source": [
        "# Task - A\n",
        "n, m = map(int, input().split())\n",
        "adj = [[] for i in range(n + 1)]\n",
        "for i in range(m):\n",
        "    u, v = map(int, input().split())\n",
        "    adj[u].append(v)\n",
        "    adj[v].append(u)\n",
        "for j in range(1, n + 1):\n",
        "    adj[j].sort()\n",
        "\n",
        "color = [0] * (n + 1)\n",
        "queue = [1]\n",
        "color[1] = 1\n",
        "head = 0\n",
        "order = []\n",
        "while head < len(queue):\n",
        "    u = queue[head]\n",
        "    head += 1\n",
        "    order.append(u)\n",
        "    for v in adj[u]:\n",
        "        if color[v] == 0:\n",
        "            color[v] = 1\n",
        "            queue.append(v)\n",
        "\n",
        "print(*order)"
      ]
    },
    {
      "cell_type": "code",
      "source": [
        "import sys\n",
        "sys.setrecursionlimit(10**6)\n",
        "\n",
        "n = int(input())\n",
        "adj = [[] for _ in range(n + 1)]\n",
        "\n",
        "for _ in range(n - 1):\n",
        "    u, v = map(int, input().split())\n",
        "    adj[u].append(v)\n",
        "    adj[v].append(u)\n",
        "\n",
        "colour = [0] * (n + 1)\n",
        "ans = []\n",
        "count = 0\n",
        "def DFS(G, u):\n",
        "    colour[u] = 1\n",
        "    global count\n",
        "    for v in G[u]:\n",
        "        if colour[v] == 0:\n",
        "            DFS(G, v)\n",
        "            count += 1\n",
        "    ans.append(u)\n",
        "\n",
        "DFS(adj, n)\n",
        "print(count)\n",
        "for i in ans:\n",
        "    print(i, end=\" \")"
      ],
      "metadata": {
        "colab": {
          "base_uri": "https://localhost:8080/"
        },
        "id": "RSL2cr36KW_G",
        "outputId": "f38eb01e-737d-4640-d02e-8f6ed9ec4cf4"
      },
      "execution_count": null,
      "outputs": [
        {
          "output_type": "stream",
          "name": "stdout",
          "text": [
            "5\n",
            "1 2\n",
            "5 3\n",
            "3 2\n",
            "2 4\n",
            "4\n",
            "1 4 2 3 5 "
          ]
        }
      ]
    },
    {
      "cell_type": "code",
      "source": [
        "import sys\n",
        "sys.setrecursionlimit(10**6)\n",
        "\n",
        "n = int(input())\n",
        "adj = [[] for _ in range(n + 1)]\n",
        "\n",
        "for _ in range(n - 1):\n",
        "    u, v = map(int, input().split())\n",
        "    adj[u].append(v)\n",
        "    adj[v].append(u)\n",
        "\n",
        "# Find farthest node\n",
        "colour = [0] * (n + 1)\n",
        "max_dist = -1\n",
        "farthest_node = -1\n",
        "\n",
        "def find_farthest(u, dist):\n",
        "    global max_dist, farthest_node\n",
        "    colour[u] = 1\n",
        "    if dist > max_dist:\n",
        "        max_dist = dist\n",
        "        farthest_node = u\n",
        "    for v in adj[u]:\n",
        "        if colour[v] == 0:\n",
        "            find_farthest(v, dist + 1)\n",
        "find_farthest(1, 0)\n",
        "\n",
        "colour = [0] * (n + 1)\n",
        "ans = []\n",
        "\n",
        "def DFS(u):\n",
        "    colour[u] = 1\n",
        "    for v in adj[u]:\n",
        "        if colour[v] == 0:\n",
        "            DFS(v)\n",
        "    ans.append(u)\n",
        "\n",
        "DFS(farthest_node)\n",
        "\n",
        "for i in ans:\n",
        "    print(i, end=\" \")\n"
      ],
      "metadata": {
        "id": "a1hLUVa8RqT7"
      },
      "execution_count": null,
      "outputs": []
    },
    {
      "cell_type": "code",
      "source": [
        "# Task - B\n",
        "import sys\n",
        "sys.setrecursionlimit(10**6)\n",
        "\n",
        "n, m = map(int, input().split())\n",
        "u = list(map(int, input().split()))\n",
        "v = list(map(int, input().split()))\n",
        "\n",
        "adj = [[] for i in range(n + 1)]\n",
        "for i in range(m):\n",
        "    adj[u[i]].append(v[i])\n",
        "    adj[v[i]].append(u[i])\n",
        "\n",
        "for j in range(1, n + 1):\n",
        "    adj[j].sort()\n",
        "print(adj)\n",
        "colour = [0] * (n + 1)\n",
        "ans = []\n",
        "print(adj)\n",
        "def DFS(G, u):\n",
        "    colour[u] = 1\n",
        "    ans.append(u)\n",
        "    for v in G[u]:\n",
        "        if colour[v] == 0:\n",
        "            DFS(G, v)\n",
        "\n",
        "DFS(adj, 1)\n",
        "for i in ans:\n",
        "  print(i,end=\" \")"
      ],
      "metadata": {
        "colab": {
          "base_uri": "https://localhost:8080/"
        },
        "id": "5NY4LCzvvk0v",
        "outputId": "a505339a-e000-4ddb-c0dd-0af419a1380a"
      },
      "execution_count": null,
      "outputs": [
        {
          "output_type": "stream",
          "name": "stdout",
          "text": [
            "5 4\n",
            "5 1 4 3\n",
            "1 4 2 2\n",
            "[[], [4, 5], [3, 4], [2], [1, 2], [1]]\n",
            "[[], [4, 5], [3, 4], [2], [1, 2], [1]]\n",
            "1 4 2 3 5 "
          ]
        }
      ]
    },
    {
      "cell_type": "code",
      "source": [
        "# Task - C\n",
        "n, m, s, e, point = map(int, input().split())\n",
        "adj = [[] for i in range(n + 1)]\n",
        "for i in range(m):\n",
        "    u,v = list(map(int, input().split()))\n",
        "    adj[u].append(v)\n",
        "    adj[v].append(u)\n",
        "for j in range(1, n + 1):\n",
        "    adj[j].sort()\n",
        "color = [0] * (n + 1)\n",
        "queue = [s]\n",
        "color[s] = 1\n",
        "head = 0\n",
        "order = []\n",
        "parent = {i: [] for i in range(1, n + 1)}\n",
        "parent_of = [0] * (n + 1)\n",
        "while head < len(queue):\n",
        "    u_node = queue[head]\n",
        "    head += 1\n",
        "    order.append(u_node)\n",
        "    for v_node in adj[u_node]:\n",
        "        if color[v_node] == 0:\n",
        "            color[v_node] = 1\n",
        "            queue.append(v_node)\n",
        "            parent[u_node].append(v_node)\n",
        "            parent_of[v_node] = u_node\n",
        "d = 0\n",
        "if color[e] == 0:\n",
        "    print(-1)\n",
        "else:\n",
        "    path = []\n",
        "    current = e\n",
        "    while current != s:\n",
        "        path.append(current)\n",
        "        current = parent_of[current]\n",
        "        d += 1\n",
        "    path.append(s)\n",
        "    path.reverse()\n",
        "    print(d)\n",
        "    for p in path:\n",
        "        print(p, end=\" \")"
      ],
      "metadata": {
        "colab": {
          "base_uri": "https://localhost:8080/"
        },
        "id": "ZzkCEq6tz3k6",
        "outputId": "8d3743e6-4efb-473e-f061-2662fea9d6c0"
      },
      "execution_count": null,
      "outputs": [
        {
          "output_type": "stream",
          "name": "stdout",
          "text": [
            "5 10 5 3 5\n",
            "2 5\n",
            "5 1\n",
            "4 5\n",
            "3 5\n",
            "1 2\n",
            "2 4\n",
            "3 2\n",
            "1 4\n",
            "1 3\n",
            "3 4\n",
            "1\n",
            "5 3 "
          ]
        }
      ]
    },
    {
      "cell_type": "code",
      "source": [
        "# Task - D\n",
        "n, m, s, e, k= map(int, input().split())\n",
        "adj = [[] for i in range(n + 1)]\n",
        "for i in range(m):\n",
        "    u, v = list(map(int, input().split()))\n",
        "    adj[u].append(v)\n",
        "\n",
        "for j in range(1, n + 1):\n",
        "    adj[j].sort()\n",
        "\n",
        "color = [0] * (n + 1)\n",
        "queue = [s]\n",
        "color[s] = 1\n",
        "head = 0\n",
        "order = []\n",
        "\n",
        "parent = {i: [] for i in range(1, n + 1)}\n",
        "parent_of = [0] * (n + 1)\n",
        "\n",
        "while head < len(queue):\n",
        "    u_node = queue[head]\n",
        "    head += 1\n",
        "    order.append(u_node)\n",
        "    for v_node in adj[u_node]:\n",
        "        if color[v_node] == 0:\n",
        "            color[v_node] = 1\n",
        "            queue.append(v_node)\n",
        "            parent[u_node].append(v_node)\n",
        "            parent_of[v_node] = u_node\n",
        "\n",
        "flag = 0\n",
        "d = 0\n",
        "\n",
        "if color[k] == 0:\n",
        "    flag = 1\n",
        "else:\n",
        "    path = []\n",
        "    current = k\n",
        "    while current != s:\n",
        "        path.append(current)\n",
        "        current = parent_of[current]\n",
        "        d += 1\n",
        "    path.append(s)\n",
        "    path.reverse()\n",
        "\n",
        "color1 = [0] * (n + 1)\n",
        "queue1 = [k]\n",
        "color1[k] = 1\n",
        "head1 = 0\n",
        "parent_of2 = [0] * (n + 1)\n",
        "\n",
        "while head1 < len(queue1):\n",
        "    u_node = queue1[head1]\n",
        "    head1 += 1\n",
        "    for v_node in adj[u_node]:\n",
        "        if color1[v_node] == 0:\n",
        "            color1[v_node] = 1\n",
        "            queue1.append(v_node)\n",
        "            parent_of2[v_node] = u_node\n",
        "\n",
        "if color1[e] == 0:\n",
        "    flag = 1\n",
        "else:\n",
        "    path1 = []\n",
        "    current1 = e\n",
        "    while current1 != k:\n",
        "        path1.append(current1)\n",
        "        current1 = parent_of2[current1]\n",
        "        d += 1\n",
        "    path1.append(k)\n",
        "    path1.reverse()\n",
        "\n",
        "if flag == 1:\n",
        "    print(-1)\n",
        "else:\n",
        "    print(d)\n",
        "    print(*(path + path1[1:]))"
      ],
      "metadata": {
        "colab": {
          "base_uri": "https://localhost:8080/"
        },
        "id": "trxQsoj9q6V8",
        "outputId": "fefcb944-6e78-43b1-8ff8-91ecf488e7aa"
      },
      "execution_count": null,
      "outputs": [
        {
          "output_type": "stream",
          "name": "stdout",
          "text": [
            "5 10 5 3 5\n",
            "2 5\n",
            "5 1\n",
            "4 5\n",
            "3 5\n",
            "1 2\n",
            "2 4\n",
            "3 2\n",
            "1 4\n",
            "1 3\n",
            "3 4\n",
            "2\n",
            "5 1 3\n"
          ]
        }
      ]
    },
    {
      "cell_type": "code",
      "source": [
        "# Task - D\n",
        "import sys\n",
        "sys.setrecursionlimit(10**6)\n",
        "n, m = map(int, input().split())\n",
        "adj = [[] for i in range(n + 1)]\n",
        "for i in range(m):\n",
        "    u,v = list(map(int, input().split()))\n",
        "    adj[u].append(v)\n",
        "for j in range(1, n + 1):\n",
        "    adj[j].sort()\n",
        "colour = [0] * (n + 1)\n",
        "ans = []\n",
        "cycle = []\n",
        "def DFS(G, u):\n",
        "    colour[u] = 1\n",
        "    ans.append(u)\n",
        "    for v in G[u]:\n",
        "        if colour[v] == 1:\n",
        "            DFS(G, v)\n",
        "            cycle.append(u)\n",
        "    if cycle[0] == cycle[len(cycle) - 1]:\n",
        "      return \"YES\"\n",
        "    else:\n",
        "      return \"NO\"\n",
        "DFS(adj, 1)"
      ],
      "metadata": {
        "colab": {
          "base_uri": "https://localhost:8080/",
          "height": 454
        },
        "id": "pTEifdYXKNGw",
        "outputId": "4c97c429-37c5-4621-b895-b1078b1afdeb"
      },
      "execution_count": null,
      "outputs": [
        {
          "output_type": "stream",
          "name": "stdout",
          "text": [
            "4 7\n",
            "1 3\n",
            "1 2\n",
            "2 4\n",
            "3 1\n",
            "2 3\n",
            "4 3\n",
            "4 1\n",
            "[]\n"
          ]
        },
        {
          "output_type": "error",
          "ename": "IndexError",
          "evalue": "list index out of range",
          "traceback": [
            "\u001b[0;31m---------------------------------------------------------------------------\u001b[0m",
            "\u001b[0;31mIndexError\u001b[0m                                Traceback (most recent call last)",
            "\u001b[0;32m<ipython-input-8-5ae8a448e9cd>\u001b[0m in \u001b[0;36m<cell line: 0>\u001b[0;34m()\u001b[0m\n\u001b[1;32m     29\u001b[0m       \u001b[0;32mreturn\u001b[0m \u001b[0;34m\"NO\"\u001b[0m\u001b[0;34m\u001b[0m\u001b[0;34m\u001b[0m\u001b[0m\n\u001b[1;32m     30\u001b[0m \u001b[0;34m\u001b[0m\u001b[0m\n\u001b[0;32m---> 31\u001b[0;31m \u001b[0mDFS\u001b[0m\u001b[0;34m(\u001b[0m\u001b[0madj\u001b[0m\u001b[0;34m,\u001b[0m \u001b[0;36m1\u001b[0m\u001b[0;34m)\u001b[0m\u001b[0;34m\u001b[0m\u001b[0;34m\u001b[0m\u001b[0m\n\u001b[0m",
            "\u001b[0;32m<ipython-input-8-5ae8a448e9cd>\u001b[0m in \u001b[0;36mDFS\u001b[0;34m(G, u)\u001b[0m\n\u001b[1;32m     24\u001b[0m             \u001b[0mcycle\u001b[0m\u001b[0;34m.\u001b[0m\u001b[0mappend\u001b[0m\u001b[0;34m(\u001b[0m\u001b[0mu\u001b[0m\u001b[0;34m)\u001b[0m\u001b[0;34m\u001b[0m\u001b[0;34m\u001b[0m\u001b[0m\n\u001b[1;32m     25\u001b[0m     \u001b[0mprint\u001b[0m\u001b[0;34m(\u001b[0m\u001b[0mcycle\u001b[0m\u001b[0;34m)\u001b[0m\u001b[0;34m\u001b[0m\u001b[0;34m\u001b[0m\u001b[0m\n\u001b[0;32m---> 26\u001b[0;31m     \u001b[0;32mif\u001b[0m \u001b[0mcycle\u001b[0m\u001b[0;34m[\u001b[0m\u001b[0;36m0\u001b[0m\u001b[0;34m]\u001b[0m \u001b[0;34m==\u001b[0m \u001b[0mcycle\u001b[0m\u001b[0;34m[\u001b[0m\u001b[0mlen\u001b[0m\u001b[0;34m(\u001b[0m\u001b[0mcycle\u001b[0m\u001b[0;34m)\u001b[0m \u001b[0;34m-\u001b[0m \u001b[0;36m1\u001b[0m\u001b[0;34m]\u001b[0m\u001b[0;34m:\u001b[0m\u001b[0;34m\u001b[0m\u001b[0;34m\u001b[0m\u001b[0m\n\u001b[0m\u001b[1;32m     27\u001b[0m       \u001b[0;32mreturn\u001b[0m \u001b[0;34m\"YES\"\u001b[0m\u001b[0;34m\u001b[0m\u001b[0;34m\u001b[0m\u001b[0m\n\u001b[1;32m     28\u001b[0m     \u001b[0;32melse\u001b[0m\u001b[0;34m:\u001b[0m\u001b[0;34m\u001b[0m\u001b[0;34m\u001b[0m\u001b[0m\n",
            "\u001b[0;31mIndexError\u001b[0m: list index out of range"
          ]
        }
      ]
    },
    {
      "cell_type": "code",
      "source": [
        "n, m = map(int, input().split())\n",
        "\n",
        "adj = [[] for i in range(n + 1)]\n",
        "for i in range(m):\n",
        "    u, v = map(int, input().split())\n",
        "    adj[u].append(v)\n",
        "\n",
        "for j in range(1, n + 1):\n",
        "    adj[j].sort()\n",
        "new = []\n",
        "for i in adj:\n",
        "  for j in i:\n",
        "    new.append(j)\n",
        "def cycle(a):\n",
        "  if len(new) <= 1:\n",
        "    return \"NO\"\n",
        "  for i in range(len(new) - 1):\n",
        "    for j in range(i + 1,len(new) - 1):\n",
        "      if new[i] == new[j]:\n",
        "        return \"YES\"\n",
        "  return \"NO\"\n",
        "print(cycle(new))"
      ],
      "metadata": {
        "colab": {
          "base_uri": "https://localhost:8080/"
        },
        "id": "7TE8uwvhLdHi",
        "outputId": "b0ba8fc9-c628-42ae-fa8b-4d6ee60bd542"
      },
      "execution_count": null,
      "outputs": [
        {
          "output_type": "stream",
          "name": "stdout",
          "text": [
            "6 5\n",
            "6 4\n",
            "6 3\n",
            "4 5\n",
            "6 2\n",
            "4 1\n",
            "NO\n"
          ]
        }
      ]
    },
    {
      "cell_type": "code",
      "source": [
        "# Task - E\n",
        "import sys\n",
        "sys.setrecursionlimit(10**6)\n",
        "n, m = map(int, input().split())\n",
        "adj = [[] for i in range(n + 1)]\n",
        "for i in range(m):\n",
        "    u, v = map(int, input().split())\n",
        "    adj[u].append(v)\n",
        "for j in range(1, n + 1):\n",
        "    adj[j].sort()\n",
        "new = []\n",
        "for i in adj:\n",
        "    for j in i:\n",
        "        new.append(j)\n",
        "colour = [0] * (n + 1)\n",
        "flag = 0\n",
        "def DFS(u):\n",
        "    global flag\n",
        "    colour[u] = 1\n",
        "    for v in adj[u]:\n",
        "        if colour[v] == 0:\n",
        "            DFS(v)\n",
        "        elif colour[v] == 1:\n",
        "            flag = 1\n",
        "    colour[u] = 2\n",
        "def cycle(a):\n",
        "    for i in range(1, n + 1):\n",
        "        if colour[i] == 0:\n",
        "            DFS(i)\n",
        "        if flag == 1:\n",
        "            return \"YES\"\n",
        "    return \"NO\"\n",
        "print(cycle(new))"
      ],
      "metadata": {
        "id": "2lY1scUsLdqr",
        "colab": {
          "base_uri": "https://localhost:8080/"
        },
        "outputId": "78ad1ba2-ad37-48e1-f12c-f88e0aa8d3c9"
      },
      "execution_count": null,
      "outputs": [
        {
          "output_type": "stream",
          "name": "stdout",
          "text": [
            "6 5\n",
            "6 4\n",
            "6 3\n",
            "4 5\n",
            "6 2\n",
            "4 1\n",
            "NO\n"
          ]
        }
      ]
    },
    {
      "cell_type": "code",
      "source": [
        "# Task - F\n",
        "from collections import deque\n",
        "u,v = map(int, input().split())\n",
        "def max_diamonds(u, v, grid):\n",
        "    visited = [[False] * v for _ in range(u)]\n",
        "    directions = [(-1, 0), (1, 0), (0, -1), (0, 1)]\n",
        "    max_diamonds = 0\n",
        "\n",
        "    def bfs(sr, sc):\n",
        "        queue = deque()\n",
        "        queue.append((sr, sc))\n",
        "        visited[sr][sc] = True\n",
        "        diamonds = 0\n",
        "        while queue:\n",
        "            r, c = queue.popleft()\n",
        "            if grid[r][c] == 'D':\n",
        "                diamonds += 1\n",
        "            for dr, dc in directions:\n",
        "                nr, nc = r + dr, c + dc\n",
        "                if 0 <= nr < u and 0 <= nc < v:\n",
        "                    if not visited[nr][nc] and grid[nr][nc] != '#':\n",
        "                        visited[nr][nc] = True\n",
        "                        queue.append((nr, nc))\n",
        "        return diamonds\n",
        "    for r in range(u):\n",
        "        for c in range(v):\n",
        "            if not visited[r][c] and grid[r][c] != '#':\n",
        "                max_diamonds = max(max_diamonds, bfs(r, c))\n",
        "    return max_diamonds\n",
        "grid = [input().strip() for i in range(u)]\n",
        "print(max_diamonds(u, v, grid))"
      ],
      "metadata": {
        "colab": {
          "base_uri": "https://localhost:8080/"
        },
        "id": "CjXAJvBNz4QJ",
        "outputId": "6e2814c7-d915-4a26-8c61-011bb9775800"
      },
      "execution_count": null,
      "outputs": [
        {
          "output_type": "stream",
          "name": "stdout",
          "text": [
            "5 5\n",
            ".#.DD\n",
            "##.#.\n",
            "####D\n",
            "#DDD#\n",
            "#..DD\n",
            "5\n"
          ]
        }
      ]
    }
  ]
}